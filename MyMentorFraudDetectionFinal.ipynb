{
 "cells": [
  {
   "cell_type": "code",
   "execution_count": 2,
   "id": "31748176",
   "metadata": {},
   "outputs": [],
   "source": [
    "import pandas as pd\n",
    "import numpy as np\n",
    "import matplotlib.pyplot as plt\n",
    "import seaborn as sns"
   ]
  },
  {
   "cell_type": "code",
   "execution_count": 3,
   "id": "bb4406bb",
   "metadata": {},
   "outputs": [],
   "source": [
    "df = pd.read_csv('fraud2.csv')"
   ]
  },
  {
   "cell_type": "code",
   "execution_count": 4,
   "id": "95d40d8e",
   "metadata": {},
   "outputs": [
    {
     "data": {
      "text/html": [
       "<div>\n",
       "<style scoped>\n",
       "    .dataframe tbody tr th:only-of-type {\n",
       "        vertical-align: middle;\n",
       "    }\n",
       "\n",
       "    .dataframe tbody tr th {\n",
       "        vertical-align: top;\n",
       "    }\n",
       "\n",
       "    .dataframe thead th {\n",
       "        text-align: right;\n",
       "    }\n",
       "</style>\n",
       "<table border=\"1\" class=\"dataframe\">\n",
       "  <thead>\n",
       "    <tr style=\"text-align: right;\">\n",
       "      <th></th>\n",
       "      <th>SK_ID_CURR</th>\n",
       "      <th>TARGET</th>\n",
       "      <th>NAME_CONTRACT_TYPE</th>\n",
       "      <th>CODE_GENDER</th>\n",
       "      <th>FLAG_OWN_CAR</th>\n",
       "      <th>FLAG_OWN_REALTY</th>\n",
       "      <th>CNT_CHILDREN</th>\n",
       "      <th>AMT_INCOME_TOTAL</th>\n",
       "      <th>AMT_CREDIT</th>\n",
       "      <th>AMT_ANNUITY</th>\n",
       "      <th>...</th>\n",
       "      <th>DAYS_ID_PUBLISH</th>\n",
       "      <th>OWN_CAR_AGE</th>\n",
       "      <th>FLAG_MOBIL</th>\n",
       "      <th>FLAG_EMP_PHONE</th>\n",
       "      <th>FLAG_WORK_PHONE</th>\n",
       "      <th>FLAG_CONT_MOBILE</th>\n",
       "      <th>FLAG_PHONE</th>\n",
       "      <th>FLAG_EMAIL</th>\n",
       "      <th>OCCUPATION_TYPE</th>\n",
       "      <th>CNT_FAM_MEMBERS</th>\n",
       "    </tr>\n",
       "  </thead>\n",
       "  <tbody>\n",
       "    <tr>\n",
       "      <th>0</th>\n",
       "      <td>100002</td>\n",
       "      <td>1</td>\n",
       "      <td>Cash loans</td>\n",
       "      <td>M</td>\n",
       "      <td>N</td>\n",
       "      <td>Y</td>\n",
       "      <td>0</td>\n",
       "      <td>202500.0</td>\n",
       "      <td>406597.5</td>\n",
       "      <td>24700.5</td>\n",
       "      <td>...</td>\n",
       "      <td>-2120</td>\n",
       "      <td>NaN</td>\n",
       "      <td>1</td>\n",
       "      <td>1</td>\n",
       "      <td>0</td>\n",
       "      <td>1</td>\n",
       "      <td>1</td>\n",
       "      <td>0</td>\n",
       "      <td>Laborers</td>\n",
       "      <td>1.0</td>\n",
       "    </tr>\n",
       "    <tr>\n",
       "      <th>1</th>\n",
       "      <td>100031</td>\n",
       "      <td>1</td>\n",
       "      <td>Cash loans</td>\n",
       "      <td>F</td>\n",
       "      <td>N</td>\n",
       "      <td>Y</td>\n",
       "      <td>0</td>\n",
       "      <td>112500.0</td>\n",
       "      <td>979992.0</td>\n",
       "      <td>27076.5</td>\n",
       "      <td>...</td>\n",
       "      <td>-1827</td>\n",
       "      <td>NaN</td>\n",
       "      <td>1</td>\n",
       "      <td>1</td>\n",
       "      <td>0</td>\n",
       "      <td>1</td>\n",
       "      <td>0</td>\n",
       "      <td>0</td>\n",
       "      <td>Cooking staff</td>\n",
       "      <td>1.0</td>\n",
       "    </tr>\n",
       "    <tr>\n",
       "      <th>2</th>\n",
       "      <td>100047</td>\n",
       "      <td>1</td>\n",
       "      <td>Cash loans</td>\n",
       "      <td>M</td>\n",
       "      <td>N</td>\n",
       "      <td>Y</td>\n",
       "      <td>0</td>\n",
       "      <td>202500.0</td>\n",
       "      <td>1193580.0</td>\n",
       "      <td>35028.0</td>\n",
       "      <td>...</td>\n",
       "      <td>-1029</td>\n",
       "      <td>NaN</td>\n",
       "      <td>1</td>\n",
       "      <td>1</td>\n",
       "      <td>0</td>\n",
       "      <td>1</td>\n",
       "      <td>0</td>\n",
       "      <td>0</td>\n",
       "      <td>Laborers</td>\n",
       "      <td>2.0</td>\n",
       "    </tr>\n",
       "    <tr>\n",
       "      <th>3</th>\n",
       "      <td>100049</td>\n",
       "      <td>1</td>\n",
       "      <td>Cash loans</td>\n",
       "      <td>F</td>\n",
       "      <td>N</td>\n",
       "      <td>N</td>\n",
       "      <td>0</td>\n",
       "      <td>135000.0</td>\n",
       "      <td>288873.0</td>\n",
       "      <td>16258.5</td>\n",
       "      <td>...</td>\n",
       "      <td>-4409</td>\n",
       "      <td>NaN</td>\n",
       "      <td>1</td>\n",
       "      <td>1</td>\n",
       "      <td>1</td>\n",
       "      <td>1</td>\n",
       "      <td>1</td>\n",
       "      <td>0</td>\n",
       "      <td>Sales staff</td>\n",
       "      <td>2.0</td>\n",
       "    </tr>\n",
       "    <tr>\n",
       "      <th>4</th>\n",
       "      <td>100096</td>\n",
       "      <td>1</td>\n",
       "      <td>Cash loans</td>\n",
       "      <td>F</td>\n",
       "      <td>N</td>\n",
       "      <td>Y</td>\n",
       "      <td>0</td>\n",
       "      <td>81000.0</td>\n",
       "      <td>252000.0</td>\n",
       "      <td>14593.5</td>\n",
       "      <td>...</td>\n",
       "      <td>-4199</td>\n",
       "      <td>NaN</td>\n",
       "      <td>1</td>\n",
       "      <td>0</td>\n",
       "      <td>0</td>\n",
       "      <td>1</td>\n",
       "      <td>0</td>\n",
       "      <td>0</td>\n",
       "      <td>NaN</td>\n",
       "      <td>2.0</td>\n",
       "    </tr>\n",
       "  </tbody>\n",
       "</table>\n",
       "<p>5 rows × 30 columns</p>\n",
       "</div>"
      ],
      "text/plain": [
       "   SK_ID_CURR  TARGET NAME_CONTRACT_TYPE CODE_GENDER FLAG_OWN_CAR  \\\n",
       "0      100002       1         Cash loans           M            N   \n",
       "1      100031       1         Cash loans           F            N   \n",
       "2      100047       1         Cash loans           M            N   \n",
       "3      100049       1         Cash loans           F            N   \n",
       "4      100096       1         Cash loans           F            N   \n",
       "\n",
       "  FLAG_OWN_REALTY  CNT_CHILDREN  AMT_INCOME_TOTAL  AMT_CREDIT  AMT_ANNUITY  \\\n",
       "0               Y             0          202500.0    406597.5      24700.5   \n",
       "1               Y             0          112500.0    979992.0      27076.5   \n",
       "2               Y             0          202500.0   1193580.0      35028.0   \n",
       "3               N             0          135000.0    288873.0      16258.5   \n",
       "4               Y             0           81000.0    252000.0      14593.5   \n",
       "\n",
       "   ...  DAYS_ID_PUBLISH OWN_CAR_AGE FLAG_MOBIL FLAG_EMP_PHONE FLAG_WORK_PHONE  \\\n",
       "0  ...            -2120         NaN          1              1               0   \n",
       "1  ...            -1827         NaN          1              1               0   \n",
       "2  ...            -1029         NaN          1              1               0   \n",
       "3  ...            -4409         NaN          1              1               1   \n",
       "4  ...            -4199         NaN          1              0               0   \n",
       "\n",
       "  FLAG_CONT_MOBILE  FLAG_PHONE  FLAG_EMAIL  OCCUPATION_TYPE  CNT_FAM_MEMBERS  \n",
       "0                1           1           0         Laborers              1.0  \n",
       "1                1           0           0    Cooking staff              1.0  \n",
       "2                1           0           0         Laborers              2.0  \n",
       "3                1           1           0      Sales staff              2.0  \n",
       "4                1           0           0              NaN              2.0  \n",
       "\n",
       "[5 rows x 30 columns]"
      ]
     },
     "execution_count": 4,
     "metadata": {},
     "output_type": "execute_result"
    }
   ],
   "source": [
    "df.head()"
   ]
  },
  {
   "cell_type": "code",
   "execution_count": 5,
   "id": "a058e3ba",
   "metadata": {},
   "outputs": [
    {
     "data": {
      "text/plain": [
       "(74825, 30)"
      ]
     },
     "execution_count": 5,
     "metadata": {},
     "output_type": "execute_result"
    }
   ],
   "source": [
    "df.shape"
   ]
  },
  {
   "cell_type": "code",
   "execution_count": 6,
   "id": "c184c0bf",
   "metadata": {},
   "outputs": [
    {
     "name": "stdout",
     "output_type": "stream",
     "text": [
      "<class 'pandas.core.frame.DataFrame'>\n",
      "RangeIndex: 74825 entries, 0 to 74824\n",
      "Data columns (total 30 columns):\n",
      " #   Column                      Non-Null Count  Dtype  \n",
      "---  ------                      --------------  -----  \n",
      " 0   SK_ID_CURR                  74825 non-null  int64  \n",
      " 1   TARGET                      74825 non-null  int64  \n",
      " 2   NAME_CONTRACT_TYPE          74825 non-null  object \n",
      " 3   CODE_GENDER                 74825 non-null  object \n",
      " 4   FLAG_OWN_CAR                74825 non-null  object \n",
      " 5   FLAG_OWN_REALTY             74825 non-null  object \n",
      " 6   CNT_CHILDREN                74825 non-null  int64  \n",
      " 7   AMT_INCOME_TOTAL            74825 non-null  float64\n",
      " 8   AMT_CREDIT                  74825 non-null  float64\n",
      " 9   AMT_ANNUITY                 74821 non-null  float64\n",
      " 10  AMT_GOODS_PRICE             74755 non-null  float64\n",
      " 11  NAME_TYPE_SUITE             74500 non-null  object \n",
      " 12  NAME_INCOME_TYPE            74825 non-null  object \n",
      " 13  NAME_EDUCATION_TYPE         74825 non-null  object \n",
      " 14  NAME_FAMILY_STATUS          74825 non-null  object \n",
      " 15  NAME_HOUSING_TYPE           74825 non-null  object \n",
      " 16  REGION_POPULATION_RELATIVE  74825 non-null  float64\n",
      " 17  DAYS_BIRTH                  74825 non-null  int64  \n",
      " 18  DAYS_EMPLOYED               74825 non-null  int64  \n",
      " 19  DAYS_REGISTRATION           74825 non-null  float64\n",
      " 20  DAYS_ID_PUBLISH             74825 non-null  int64  \n",
      " 21  OWN_CAR_AGE                 24749 non-null  float64\n",
      " 22  FLAG_MOBIL                  74825 non-null  int64  \n",
      " 23  FLAG_EMP_PHONE              74825 non-null  int64  \n",
      " 24  FLAG_WORK_PHONE             74825 non-null  int64  \n",
      " 25  FLAG_CONT_MOBILE            74825 non-null  int64  \n",
      " 26  FLAG_PHONE                  74825 non-null  int64  \n",
      " 27  FLAG_EMAIL                  74825 non-null  int64  \n",
      " 28  OCCUPATION_TYPE             52624 non-null  object \n",
      " 29  CNT_FAM_MEMBERS             74824 non-null  float64\n",
      "dtypes: float64(8), int64(12), object(10)\n",
      "memory usage: 17.1+ MB\n"
     ]
    }
   ],
   "source": [
    "df.info()"
   ]
  },
  {
   "cell_type": "code",
   "execution_count": 7,
   "id": "5921803c",
   "metadata": {},
   "outputs": [
    {
     "data": {
      "text/plain": [
       "SK_ID_CURR                        0\n",
       "TARGET                            0\n",
       "NAME_CONTRACT_TYPE                0\n",
       "CODE_GENDER                       0\n",
       "FLAG_OWN_CAR                      0\n",
       "FLAG_OWN_REALTY                   0\n",
       "CNT_CHILDREN                      0\n",
       "AMT_INCOME_TOTAL                  0\n",
       "AMT_CREDIT                        0\n",
       "AMT_ANNUITY                       4\n",
       "AMT_GOODS_PRICE                  70\n",
       "NAME_TYPE_SUITE                 325\n",
       "NAME_INCOME_TYPE                  0\n",
       "NAME_EDUCATION_TYPE               0\n",
       "NAME_FAMILY_STATUS                0\n",
       "NAME_HOUSING_TYPE                 0\n",
       "REGION_POPULATION_RELATIVE        0\n",
       "DAYS_BIRTH                        0\n",
       "DAYS_EMPLOYED                     0\n",
       "DAYS_REGISTRATION                 0\n",
       "DAYS_ID_PUBLISH                   0\n",
       "OWN_CAR_AGE                   50076\n",
       "FLAG_MOBIL                        0\n",
       "FLAG_EMP_PHONE                    0\n",
       "FLAG_WORK_PHONE                   0\n",
       "FLAG_CONT_MOBILE                  0\n",
       "FLAG_PHONE                        0\n",
       "FLAG_EMAIL                        0\n",
       "OCCUPATION_TYPE               22201\n",
       "CNT_FAM_MEMBERS                   1\n",
       "dtype: int64"
      ]
     },
     "execution_count": 7,
     "metadata": {},
     "output_type": "execute_result"
    }
   ],
   "source": [
    "df.isnull().sum()"
   ]
  },
  {
   "cell_type": "code",
   "execution_count": 8,
   "id": "67e59c3c",
   "metadata": {},
   "outputs": [
    {
     "name": "stdout",
     "output_type": "stream",
     "text": [
      "SK_ID_CURR 0\n",
      "TARGET 0\n",
      "CNT_CHILDREN 1121\n",
      "AMT_INCOME_TOTAL 3226\n",
      "AMT_CREDIT 1607\n",
      "AMT_ANNUITY 1730\n",
      "AMT_GOODS_PRICE 3082\n",
      "REGION_POPULATION_RELATIVE 1878\n",
      "DAYS_BIRTH 0\n",
      "DAYS_EMPLOYED 16398\n",
      "DAYS_REGISTRATION 195\n",
      "DAYS_ID_PUBLISH 0\n",
      "OWN_CAR_AGE 1099\n",
      "FLAG_MOBIL 0\n",
      "FLAG_EMP_PHONE 12178\n",
      "FLAG_WORK_PHONE 15757\n",
      "FLAG_CONT_MOBILE 134\n",
      "FLAG_PHONE 0\n",
      "FLAG_EMAIL 4257\n",
      "CNT_FAM_MEMBERS 1054\n"
     ]
    }
   ],
   "source": [
    "for i in df.select_dtypes(include='number').columns:\n",
    "    Q1 = df[i].quantile(0.25)\n",
    "    Q3 = df[i].quantile(0.75)\n",
    "    IQR = Q3 - Q1\n",
    "        \n",
    "    lower_bound = Q1 - 1.5 * IQR\n",
    "    upper_bound = Q3 + 1.5 * IQR\n",
    "\n",
    "    outliers = (df[i] < lower_bound) | (df[i] > upper_bound)\n",
    "    print(i, outliers.sum())"
   ]
  },
  {
   "cell_type": "code",
   "execution_count": 9,
   "id": "be96bfdd",
   "metadata": {},
   "outputs": [
    {
     "data": {
      "text/html": [
       "<div>\n",
       "<style scoped>\n",
       "    .dataframe tbody tr th:only-of-type {\n",
       "        vertical-align: middle;\n",
       "    }\n",
       "\n",
       "    .dataframe tbody tr th {\n",
       "        vertical-align: top;\n",
       "    }\n",
       "\n",
       "    .dataframe thead th {\n",
       "        text-align: right;\n",
       "    }\n",
       "</style>\n",
       "<table border=\"1\" class=\"dataframe\">\n",
       "  <thead>\n",
       "    <tr style=\"text-align: right;\">\n",
       "      <th></th>\n",
       "      <th>SK_ID_CURR</th>\n",
       "      <th>TARGET</th>\n",
       "      <th>CNT_CHILDREN</th>\n",
       "      <th>AMT_INCOME_TOTAL</th>\n",
       "      <th>AMT_CREDIT</th>\n",
       "      <th>AMT_ANNUITY</th>\n",
       "      <th>AMT_GOODS_PRICE</th>\n",
       "      <th>REGION_POPULATION_RELATIVE</th>\n",
       "      <th>DAYS_BIRTH</th>\n",
       "      <th>DAYS_EMPLOYED</th>\n",
       "      <th>DAYS_REGISTRATION</th>\n",
       "      <th>DAYS_ID_PUBLISH</th>\n",
       "      <th>OWN_CAR_AGE</th>\n",
       "      <th>FLAG_MOBIL</th>\n",
       "      <th>FLAG_EMP_PHONE</th>\n",
       "      <th>FLAG_WORK_PHONE</th>\n",
       "      <th>FLAG_CONT_MOBILE</th>\n",
       "      <th>FLAG_PHONE</th>\n",
       "      <th>FLAG_EMAIL</th>\n",
       "      <th>CNT_FAM_MEMBERS</th>\n",
       "    </tr>\n",
       "  </thead>\n",
       "  <tbody>\n",
       "    <tr>\n",
       "      <th>count</th>\n",
       "      <td>74825.000000</td>\n",
       "      <td>74825.000000</td>\n",
       "      <td>74825.000000</td>\n",
       "      <td>7.482500e+04</td>\n",
       "      <td>7.482500e+04</td>\n",
       "      <td>74821.000000</td>\n",
       "      <td>7.475500e+04</td>\n",
       "      <td>74825.000000</td>\n",
       "      <td>74825.000000</td>\n",
       "      <td>74825.000000</td>\n",
       "      <td>74825.000000</td>\n",
       "      <td>74825.000000</td>\n",
       "      <td>24749.000000</td>\n",
       "      <td>74825.0</td>\n",
       "      <td>74825.000000</td>\n",
       "      <td>74825.000000</td>\n",
       "      <td>74825.000000</td>\n",
       "      <td>74825.000000</td>\n",
       "      <td>74825.000000</td>\n",
       "      <td>74824.000000</td>\n",
       "    </tr>\n",
       "    <tr>\n",
       "      <th>mean</th>\n",
       "      <td>278091.438517</td>\n",
       "      <td>0.331774</td>\n",
       "      <td>0.429509</td>\n",
       "      <td>1.683915e+05</td>\n",
       "      <td>5.876002e+05</td>\n",
       "      <td>26951.015250</td>\n",
       "      <td>5.246092e+05</td>\n",
       "      <td>0.020489</td>\n",
       "      <td>-15702.466301</td>\n",
       "      <td>57569.499058</td>\n",
       "      <td>-4835.018657</td>\n",
       "      <td>-2917.697467</td>\n",
       "      <td>12.458847</td>\n",
       "      <td>1.0</td>\n",
       "      <td>0.837247</td>\n",
       "      <td>0.210585</td>\n",
       "      <td>0.998209</td>\n",
       "      <td>0.271901</td>\n",
       "      <td>0.056893</td>\n",
       "      <td>2.160737</td>\n",
       "    </tr>\n",
       "    <tr>\n",
       "      <th>std</th>\n",
       "      <td>102708.909416</td>\n",
       "      <td>0.470854</td>\n",
       "      <td>0.730592</td>\n",
       "      <td>4.424101e+05</td>\n",
       "      <td>3.879019e+05</td>\n",
       "      <td>14012.641593</td>\n",
       "      <td>3.543813e+05</td>\n",
       "      <td>0.013501</td>\n",
       "      <td>4339.689620</td>\n",
       "      <td>135655.520104</td>\n",
       "      <td>3460.106097</td>\n",
       "      <td>1516.838262</td>\n",
       "      <td>12.114476</td>\n",
       "      <td>0.0</td>\n",
       "      <td>0.369143</td>\n",
       "      <td>0.407727</td>\n",
       "      <td>0.042281</td>\n",
       "      <td>0.444942</td>\n",
       "      <td>0.231639</td>\n",
       "      <td>0.921202</td>\n",
       "    </tr>\n",
       "    <tr>\n",
       "      <th>min</th>\n",
       "      <td>100002.000000</td>\n",
       "      <td>0.000000</td>\n",
       "      <td>0.000000</td>\n",
       "      <td>2.565000e+04</td>\n",
       "      <td>4.500000e+04</td>\n",
       "      <td>1993.500000</td>\n",
       "      <td>4.500000e+04</td>\n",
       "      <td>0.000533</td>\n",
       "      <td>-25197.000000</td>\n",
       "      <td>-17546.000000</td>\n",
       "      <td>-22928.000000</td>\n",
       "      <td>-6263.000000</td>\n",
       "      <td>0.000000</td>\n",
       "      <td>1.0</td>\n",
       "      <td>0.000000</td>\n",
       "      <td>0.000000</td>\n",
       "      <td>0.000000</td>\n",
       "      <td>0.000000</td>\n",
       "      <td>0.000000</td>\n",
       "      <td>1.000000</td>\n",
       "    </tr>\n",
       "    <tr>\n",
       "      <th>25%</th>\n",
       "      <td>189439.000000</td>\n",
       "      <td>0.000000</td>\n",
       "      <td>0.000000</td>\n",
       "      <td>1.125000e+05</td>\n",
       "      <td>2.736360e+05</td>\n",
       "      <td>16821.000000</td>\n",
       "      <td>2.385000e+05</td>\n",
       "      <td>0.010006</td>\n",
       "      <td>-19269.000000</td>\n",
       "      <td>-2606.000000</td>\n",
       "      <td>-7245.000000</td>\n",
       "      <td>-4252.000000</td>\n",
       "      <td>5.000000</td>\n",
       "      <td>1.0</td>\n",
       "      <td>1.000000</td>\n",
       "      <td>0.000000</td>\n",
       "      <td>1.000000</td>\n",
       "      <td>0.000000</td>\n",
       "      <td>0.000000</td>\n",
       "      <td>2.000000</td>\n",
       "    </tr>\n",
       "    <tr>\n",
       "      <th>50%</th>\n",
       "      <td>277569.000000</td>\n",
       "      <td>0.000000</td>\n",
       "      <td>0.000000</td>\n",
       "      <td>1.440000e+05</td>\n",
       "      <td>5.084955e+05</td>\n",
       "      <td>24984.000000</td>\n",
       "      <td>4.500000e+05</td>\n",
       "      <td>0.018850</td>\n",
       "      <td>-15315.000000</td>\n",
       "      <td>-1155.000000</td>\n",
       "      <td>-4364.000000</td>\n",
       "      <td>-3120.000000</td>\n",
       "      <td>10.000000</td>\n",
       "      <td>1.0</td>\n",
       "      <td>1.000000</td>\n",
       "      <td>0.000000</td>\n",
       "      <td>1.000000</td>\n",
       "      <td>0.000000</td>\n",
       "      <td>0.000000</td>\n",
       "      <td>2.000000</td>\n",
       "    </tr>\n",
       "    <tr>\n",
       "      <th>75%</th>\n",
       "      <td>367088.000000</td>\n",
       "      <td>1.000000</td>\n",
       "      <td>1.000000</td>\n",
       "      <td>2.025000e+05</td>\n",
       "      <td>7.908300e+05</td>\n",
       "      <td>34132.500000</td>\n",
       "      <td>6.750000e+05</td>\n",
       "      <td>0.026392</td>\n",
       "      <td>-12062.000000</td>\n",
       "      <td>-326.000000</td>\n",
       "      <td>-1898.000000</td>\n",
       "      <td>-1612.000000</td>\n",
       "      <td>16.000000</td>\n",
       "      <td>1.0</td>\n",
       "      <td>1.000000</td>\n",
       "      <td>0.000000</td>\n",
       "      <td>1.000000</td>\n",
       "      <td>1.000000</td>\n",
       "      <td>0.000000</td>\n",
       "      <td>3.000000</td>\n",
       "    </tr>\n",
       "    <tr>\n",
       "      <th>max</th>\n",
       "      <td>456254.000000</td>\n",
       "      <td>1.000000</td>\n",
       "      <td>11.000000</td>\n",
       "      <td>1.170000e+08</td>\n",
       "      <td>4.050000e+06</td>\n",
       "      <td>225000.000000</td>\n",
       "      <td>4.050000e+06</td>\n",
       "      <td>0.072508</td>\n",
       "      <td>-7678.000000</td>\n",
       "      <td>365243.000000</td>\n",
       "      <td>0.000000</td>\n",
       "      <td>0.000000</td>\n",
       "      <td>91.000000</td>\n",
       "      <td>1.0</td>\n",
       "      <td>1.000000</td>\n",
       "      <td>1.000000</td>\n",
       "      <td>1.000000</td>\n",
       "      <td>1.000000</td>\n",
       "      <td>1.000000</td>\n",
       "      <td>13.000000</td>\n",
       "    </tr>\n",
       "  </tbody>\n",
       "</table>\n",
       "</div>"
      ],
      "text/plain": [
       "          SK_ID_CURR        TARGET  CNT_CHILDREN  AMT_INCOME_TOTAL  \\\n",
       "count   74825.000000  74825.000000  74825.000000      7.482500e+04   \n",
       "mean   278091.438517      0.331774      0.429509      1.683915e+05   \n",
       "std    102708.909416      0.470854      0.730592      4.424101e+05   \n",
       "min    100002.000000      0.000000      0.000000      2.565000e+04   \n",
       "25%    189439.000000      0.000000      0.000000      1.125000e+05   \n",
       "50%    277569.000000      0.000000      0.000000      1.440000e+05   \n",
       "75%    367088.000000      1.000000      1.000000      2.025000e+05   \n",
       "max    456254.000000      1.000000     11.000000      1.170000e+08   \n",
       "\n",
       "         AMT_CREDIT    AMT_ANNUITY  AMT_GOODS_PRICE  \\\n",
       "count  7.482500e+04   74821.000000     7.475500e+04   \n",
       "mean   5.876002e+05   26951.015250     5.246092e+05   \n",
       "std    3.879019e+05   14012.641593     3.543813e+05   \n",
       "min    4.500000e+04    1993.500000     4.500000e+04   \n",
       "25%    2.736360e+05   16821.000000     2.385000e+05   \n",
       "50%    5.084955e+05   24984.000000     4.500000e+05   \n",
       "75%    7.908300e+05   34132.500000     6.750000e+05   \n",
       "max    4.050000e+06  225000.000000     4.050000e+06   \n",
       "\n",
       "       REGION_POPULATION_RELATIVE    DAYS_BIRTH  DAYS_EMPLOYED  \\\n",
       "count                74825.000000  74825.000000   74825.000000   \n",
       "mean                     0.020489 -15702.466301   57569.499058   \n",
       "std                      0.013501   4339.689620  135655.520104   \n",
       "min                      0.000533 -25197.000000  -17546.000000   \n",
       "25%                      0.010006 -19269.000000   -2606.000000   \n",
       "50%                      0.018850 -15315.000000   -1155.000000   \n",
       "75%                      0.026392 -12062.000000    -326.000000   \n",
       "max                      0.072508  -7678.000000  365243.000000   \n",
       "\n",
       "       DAYS_REGISTRATION  DAYS_ID_PUBLISH   OWN_CAR_AGE  FLAG_MOBIL  \\\n",
       "count       74825.000000     74825.000000  24749.000000     74825.0   \n",
       "mean        -4835.018657     -2917.697467     12.458847         1.0   \n",
       "std          3460.106097      1516.838262     12.114476         0.0   \n",
       "min        -22928.000000     -6263.000000      0.000000         1.0   \n",
       "25%         -7245.000000     -4252.000000      5.000000         1.0   \n",
       "50%         -4364.000000     -3120.000000     10.000000         1.0   \n",
       "75%         -1898.000000     -1612.000000     16.000000         1.0   \n",
       "max             0.000000         0.000000     91.000000         1.0   \n",
       "\n",
       "       FLAG_EMP_PHONE  FLAG_WORK_PHONE  FLAG_CONT_MOBILE    FLAG_PHONE  \\\n",
       "count    74825.000000     74825.000000      74825.000000  74825.000000   \n",
       "mean         0.837247         0.210585          0.998209      0.271901   \n",
       "std          0.369143         0.407727          0.042281      0.444942   \n",
       "min          0.000000         0.000000          0.000000      0.000000   \n",
       "25%          1.000000         0.000000          1.000000      0.000000   \n",
       "50%          1.000000         0.000000          1.000000      0.000000   \n",
       "75%          1.000000         0.000000          1.000000      1.000000   \n",
       "max          1.000000         1.000000          1.000000      1.000000   \n",
       "\n",
       "         FLAG_EMAIL  CNT_FAM_MEMBERS  \n",
       "count  74825.000000     74824.000000  \n",
       "mean       0.056893         2.160737  \n",
       "std        0.231639         0.921202  \n",
       "min        0.000000         1.000000  \n",
       "25%        0.000000         2.000000  \n",
       "50%        0.000000         2.000000  \n",
       "75%        0.000000         3.000000  \n",
       "max        1.000000        13.000000  "
      ]
     },
     "execution_count": 9,
     "metadata": {},
     "output_type": "execute_result"
    }
   ],
   "source": [
    "df.describe()"
   ]
  },
  {
   "cell_type": "markdown",
   "id": "dfe92276",
   "metadata": {},
   "source": [
    "# Null value handling"
   ]
  },
  {
   "cell_type": "code",
   "execution_count": 10,
   "id": "7b1b4b81",
   "metadata": {},
   "outputs": [
    {
     "data": {
      "text/plain": [
       "SK_ID_CURR                        0\n",
       "TARGET                            0\n",
       "NAME_CONTRACT_TYPE                0\n",
       "CODE_GENDER                       0\n",
       "FLAG_OWN_CAR                      0\n",
       "FLAG_OWN_REALTY                   0\n",
       "CNT_CHILDREN                      0\n",
       "AMT_INCOME_TOTAL                  0\n",
       "AMT_CREDIT                        0\n",
       "AMT_ANNUITY                       4\n",
       "AMT_GOODS_PRICE                  70\n",
       "NAME_TYPE_SUITE                 325\n",
       "NAME_INCOME_TYPE                  0\n",
       "NAME_EDUCATION_TYPE               0\n",
       "NAME_FAMILY_STATUS                0\n",
       "NAME_HOUSING_TYPE                 0\n",
       "REGION_POPULATION_RELATIVE        0\n",
       "DAYS_BIRTH                        0\n",
       "DAYS_EMPLOYED                     0\n",
       "DAYS_REGISTRATION                 0\n",
       "DAYS_ID_PUBLISH                   0\n",
       "OWN_CAR_AGE                   50076\n",
       "FLAG_MOBIL                        0\n",
       "FLAG_EMP_PHONE                    0\n",
       "FLAG_WORK_PHONE                   0\n",
       "FLAG_CONT_MOBILE                  0\n",
       "FLAG_PHONE                        0\n",
       "FLAG_EMAIL                        0\n",
       "OCCUPATION_TYPE               22201\n",
       "CNT_FAM_MEMBERS                   1\n",
       "dtype: int64"
      ]
     },
     "execution_count": 10,
     "metadata": {},
     "output_type": "execute_result"
    }
   ],
   "source": [
    "df.isnull().sum()"
   ]
  },
  {
   "cell_type": "code",
   "execution_count": 11,
   "id": "6e53fffa",
   "metadata": {},
   "outputs": [
    {
     "data": {
      "text/plain": [
       "AMT_GOODS_PRICE\n",
       "45000.0      257\n",
       "49500.0       38\n",
       "54000.0       66\n",
       "58500.0       72\n",
       "63000.0       25\n",
       "            ... \n",
       "3150000.0      2\n",
       "3555000.0      1\n",
       "3600000.0      2\n",
       "3825000.0      1\n",
       "4050000.0      1\n",
       "Name: count, Length: 574, dtype: int64"
      ]
     },
     "execution_count": 11,
     "metadata": {},
     "output_type": "execute_result"
    }
   ],
   "source": [
    "df['AMT_GOODS_PRICE'].value_counts().sort_index()"
   ]
  },
  {
   "cell_type": "code",
   "execution_count": 12,
   "id": "178df14b",
   "metadata": {},
   "outputs": [
    {
     "data": {
      "text/plain": [
       "524609.2476021671"
      ]
     },
     "execution_count": 12,
     "metadata": {},
     "output_type": "execute_result"
    }
   ],
   "source": [
    "df['AMT_GOODS_PRICE'].mean()"
   ]
  },
  {
   "cell_type": "code",
   "execution_count": 13,
   "id": "7c051cad",
   "metadata": {},
   "outputs": [
    {
     "data": {
      "text/plain": [
       "450000.0"
      ]
     },
     "execution_count": 13,
     "metadata": {},
     "output_type": "execute_result"
    }
   ],
   "source": [
    "df['AMT_GOODS_PRICE'].median()"
   ]
  },
  {
   "cell_type": "code",
   "execution_count": 14,
   "id": "4f599108",
   "metadata": {},
   "outputs": [
    {
     "name": "stderr",
     "output_type": "stream",
     "text": [
      "C:\\Users\\ROG\\AppData\\Local\\Temp\\ipykernel_876\\2407887376.py:1: FutureWarning: A value is trying to be set on a copy of a DataFrame or Series through chained assignment using an inplace method.\n",
      "The behavior will change in pandas 3.0. This inplace method will never work because the intermediate object on which we are setting values always behaves as a copy.\n",
      "\n",
      "For example, when doing 'df[col].method(value, inplace=True)', try using 'df.method({col: value}, inplace=True)' or df[col] = df[col].method(value) instead, to perform the operation inplace on the original object.\n",
      "\n",
      "\n",
      "  df['AMT_GOODS_PRICE'].fillna(df['AMT_GOODS_PRICE'].median(), inplace = True)\n"
     ]
    }
   ],
   "source": [
    "df['AMT_GOODS_PRICE'].fillna(df['AMT_GOODS_PRICE'].median(), inplace = True)"
   ]
  },
  {
   "cell_type": "code",
   "execution_count": 15,
   "id": "c19d2e32",
   "metadata": {},
   "outputs": [
    {
     "data": {
      "text/plain": [
       "0"
      ]
     },
     "execution_count": 15,
     "metadata": {},
     "output_type": "execute_result"
    }
   ],
   "source": [
    "df['AMT_GOODS_PRICE'].isnull().sum()"
   ]
  },
  {
   "cell_type": "code",
   "execution_count": 16,
   "id": "8c569d34",
   "metadata": {},
   "outputs": [
    {
     "data": {
      "text/plain": [
       "AMT_ANNUITY\n",
       "9000.0     1525\n",
       "13500.0    1258\n",
       "6750.0      513\n",
       "10125.0     472\n",
       "26640.0     426\n",
       "           ... \n",
       "55192.5       1\n",
       "35932.5       1\n",
       "42430.5       1\n",
       "74124.0       1\n",
       "49734.0       1\n",
       "Name: count, Length: 9895, dtype: int64"
      ]
     },
     "execution_count": 16,
     "metadata": {},
     "output_type": "execute_result"
    }
   ],
   "source": [
    "df['AMT_ANNUITY'].value_counts()"
   ]
  },
  {
   "cell_type": "code",
   "execution_count": 17,
   "id": "1a75a18d",
   "metadata": {},
   "outputs": [
    {
     "data": {
      "text/plain": [
       "26951.015249729353"
      ]
     },
     "execution_count": 17,
     "metadata": {},
     "output_type": "execute_result"
    }
   ],
   "source": [
    "df['AMT_ANNUITY'].mean()"
   ]
  },
  {
   "cell_type": "code",
   "execution_count": 18,
   "id": "a2bbd9c1",
   "metadata": {},
   "outputs": [
    {
     "data": {
      "text/plain": [
       "24984.0"
      ]
     },
     "execution_count": 18,
     "metadata": {},
     "output_type": "execute_result"
    }
   ],
   "source": [
    "df['AMT_ANNUITY'].median()"
   ]
  },
  {
   "cell_type": "code",
   "execution_count": 19,
   "id": "56c8fc94",
   "metadata": {},
   "outputs": [],
   "source": [
    "df['AMT_ANNUITY'] = df['AMT_ANNUITY'].fillna(df['AMT_ANNUITY'].median())"
   ]
  },
  {
   "cell_type": "code",
   "execution_count": 20,
   "id": "d4043eb9",
   "metadata": {},
   "outputs": [
    {
     "data": {
      "text/plain": [
       "0"
      ]
     },
     "execution_count": 20,
     "metadata": {},
     "output_type": "execute_result"
    }
   ],
   "source": [
    "df['AMT_ANNUITY'].isnull().sum()"
   ]
  },
  {
   "cell_type": "code",
   "execution_count": 21,
   "id": "2c8604ba",
   "metadata": {},
   "outputs": [
    {
     "data": {
      "text/plain": [
       "NAME_TYPE_SUITE\n",
       "Unaccompanied      60613\n",
       "Family              9600\n",
       "Spouse, partner     2800\n",
       "Children             747\n",
       "Other_B              449\n",
       "Other_A              232\n",
       "Group of people       59\n",
       "Name: count, dtype: int64"
      ]
     },
     "execution_count": 21,
     "metadata": {},
     "output_type": "execute_result"
    }
   ],
   "source": [
    "df['NAME_TYPE_SUITE'].value_counts()"
   ]
  },
  {
   "cell_type": "code",
   "execution_count": 22,
   "id": "e367bcc8",
   "metadata": {},
   "outputs": [
    {
     "data": {
      "text/plain": [
       "0    Unaccompanied\n",
       "Name: NAME_TYPE_SUITE, dtype: object"
      ]
     },
     "execution_count": 22,
     "metadata": {},
     "output_type": "execute_result"
    }
   ],
   "source": [
    "df['NAME_TYPE_SUITE'].mode()"
   ]
  },
  {
   "cell_type": "code",
   "execution_count": 23,
   "id": "0789b4e5",
   "metadata": {},
   "outputs": [],
   "source": [
    "df['NAME_TYPE_SUITE'] = df['NAME_TYPE_SUITE'].fillna(df['NAME_TYPE_SUITE'].mode()[0])"
   ]
  },
  {
   "cell_type": "code",
   "execution_count": 24,
   "id": "8ac84cda",
   "metadata": {},
   "outputs": [
    {
     "data": {
      "text/plain": [
       "0"
      ]
     },
     "execution_count": 24,
     "metadata": {},
     "output_type": "execute_result"
    }
   ],
   "source": [
    "df['NAME_TYPE_SUITE'].isnull().sum()"
   ]
  },
  {
   "cell_type": "code",
   "execution_count": 25,
   "id": "a9c7c54e",
   "metadata": {},
   "outputs": [
    {
     "data": {
      "text/plain": [
       "OCCUPATION_TYPE\n",
       "Laborers                 14610\n",
       "Sales staff               8193\n",
       "Core staff                6275\n",
       "Drivers                   5025\n",
       "Managers                  4946\n",
       "High skill tech staff     2579\n",
       "Accountants               2132\n",
       "Medicine staff            1951\n",
       "Security staff            1781\n",
       "Cooking staff             1524\n",
       "Cleaning staff            1187\n",
       "Low-skill Laborers         668\n",
       "Private service staff      622\n",
       "Waiters/barmen staff       373\n",
       "Secretaries                317\n",
       "Realty agents              193\n",
       "HR staff                   126\n",
       "IT staff                   122\n",
       "Name: count, dtype: int64"
      ]
     },
     "execution_count": 25,
     "metadata": {},
     "output_type": "execute_result"
    }
   ],
   "source": [
    "df['OCCUPATION_TYPE'].value_counts()"
   ]
  },
  {
   "cell_type": "code",
   "execution_count": 26,
   "id": "3f331b46",
   "metadata": {},
   "outputs": [
    {
     "data": {
      "text/plain": [
       "0    Laborers\n",
       "Name: OCCUPATION_TYPE, dtype: object"
      ]
     },
     "execution_count": 26,
     "metadata": {},
     "output_type": "execute_result"
    }
   ],
   "source": [
    "df['OCCUPATION_TYPE'].mode()"
   ]
  },
  {
   "cell_type": "code",
   "execution_count": 27,
   "id": "34a0b120",
   "metadata": {},
   "outputs": [],
   "source": [
    "df['OCCUPATION_TYPE'] = df['OCCUPATION_TYPE'].fillna(df['OCCUPATION_TYPE'].mode()[0])"
   ]
  },
  {
   "cell_type": "code",
   "execution_count": 28,
   "id": "799aebd5",
   "metadata": {},
   "outputs": [
    {
     "data": {
      "text/plain": [
       "0"
      ]
     },
     "execution_count": 28,
     "metadata": {},
     "output_type": "execute_result"
    }
   ],
   "source": [
    "df['OCCUPATION_TYPE'].isnull().sum()"
   ]
  },
  {
   "cell_type": "code",
   "execution_count": 29,
   "id": "36da496b",
   "metadata": {},
   "outputs": [
    {
     "data": {
      "text/plain": [
       "CNT_FAM_MEMBERS\n",
       "2.0     37883\n",
       "1.0     16671\n",
       "3.0     13107\n",
       "4.0      6109\n",
       "5.0       902\n",
       "6.0       123\n",
       "7.0        15\n",
       "8.0         9\n",
       "10.0        2\n",
       "13.0        1\n",
       "11.0        1\n",
       "12.0        1\n",
       "Name: count, dtype: int64"
      ]
     },
     "execution_count": 29,
     "metadata": {},
     "output_type": "execute_result"
    }
   ],
   "source": [
    "df['CNT_FAM_MEMBERS'].value_counts()"
   ]
  },
  {
   "cell_type": "code",
   "execution_count": 30,
   "id": "5d3f120c",
   "metadata": {},
   "outputs": [
    {
     "data": {
      "text/plain": [
       "0    2.0\n",
       "Name: CNT_FAM_MEMBERS, dtype: float64"
      ]
     },
     "execution_count": 30,
     "metadata": {},
     "output_type": "execute_result"
    }
   ],
   "source": [
    "df['CNT_FAM_MEMBERS'].mode()"
   ]
  },
  {
   "cell_type": "code",
   "execution_count": 31,
   "id": "08a43cd7",
   "metadata": {},
   "outputs": [],
   "source": [
    "df['CNT_FAM_MEMBERS'] = df['CNT_FAM_MEMBERS'].fillna(df['CNT_FAM_MEMBERS'].mode()[0])"
   ]
  },
  {
   "cell_type": "code",
   "execution_count": 32,
   "id": "29528b32",
   "metadata": {
    "scrolled": true
   },
   "outputs": [
    {
     "data": {
      "text/plain": [
       "SK_ID_CURR                        0\n",
       "TARGET                            0\n",
       "NAME_CONTRACT_TYPE                0\n",
       "CODE_GENDER                       0\n",
       "FLAG_OWN_CAR                      0\n",
       "FLAG_OWN_REALTY                   0\n",
       "CNT_CHILDREN                      0\n",
       "AMT_INCOME_TOTAL                  0\n",
       "AMT_CREDIT                        0\n",
       "AMT_ANNUITY                       0\n",
       "AMT_GOODS_PRICE                   0\n",
       "NAME_TYPE_SUITE                   0\n",
       "NAME_INCOME_TYPE                  0\n",
       "NAME_EDUCATION_TYPE               0\n",
       "NAME_FAMILY_STATUS                0\n",
       "NAME_HOUSING_TYPE                 0\n",
       "REGION_POPULATION_RELATIVE        0\n",
       "DAYS_BIRTH                        0\n",
       "DAYS_EMPLOYED                     0\n",
       "DAYS_REGISTRATION                 0\n",
       "DAYS_ID_PUBLISH                   0\n",
       "OWN_CAR_AGE                   50076\n",
       "FLAG_MOBIL                        0\n",
       "FLAG_EMP_PHONE                    0\n",
       "FLAG_WORK_PHONE                   0\n",
       "FLAG_CONT_MOBILE                  0\n",
       "FLAG_PHONE                        0\n",
       "FLAG_EMAIL                        0\n",
       "OCCUPATION_TYPE                   0\n",
       "CNT_FAM_MEMBERS                   0\n",
       "dtype: int64"
      ]
     },
     "execution_count": 32,
     "metadata": {},
     "output_type": "execute_result"
    }
   ],
   "source": [
    "df.isnull().sum()"
   ]
  },
  {
   "cell_type": "code",
   "execution_count": 33,
   "id": "5759d544",
   "metadata": {},
   "outputs": [],
   "source": [
    "df = df.drop(columns = ['OWN_CAR_AGE'])"
   ]
  },
  {
   "cell_type": "code",
   "execution_count": 34,
   "id": "bc62373c",
   "metadata": {},
   "outputs": [
    {
     "data": {
      "text/plain": [
       "SK_ID_CURR                    0\n",
       "TARGET                        0\n",
       "NAME_CONTRACT_TYPE            0\n",
       "CODE_GENDER                   0\n",
       "FLAG_OWN_CAR                  0\n",
       "FLAG_OWN_REALTY               0\n",
       "CNT_CHILDREN                  0\n",
       "AMT_INCOME_TOTAL              0\n",
       "AMT_CREDIT                    0\n",
       "AMT_ANNUITY                   0\n",
       "AMT_GOODS_PRICE               0\n",
       "NAME_TYPE_SUITE               0\n",
       "NAME_INCOME_TYPE              0\n",
       "NAME_EDUCATION_TYPE           0\n",
       "NAME_FAMILY_STATUS            0\n",
       "NAME_HOUSING_TYPE             0\n",
       "REGION_POPULATION_RELATIVE    0\n",
       "DAYS_BIRTH                    0\n",
       "DAYS_EMPLOYED                 0\n",
       "DAYS_REGISTRATION             0\n",
       "DAYS_ID_PUBLISH               0\n",
       "FLAG_MOBIL                    0\n",
       "FLAG_EMP_PHONE                0\n",
       "FLAG_WORK_PHONE               0\n",
       "FLAG_CONT_MOBILE              0\n",
       "FLAG_PHONE                    0\n",
       "FLAG_EMAIL                    0\n",
       "OCCUPATION_TYPE               0\n",
       "CNT_FAM_MEMBERS               0\n",
       "dtype: int64"
      ]
     },
     "execution_count": 34,
     "metadata": {},
     "output_type": "execute_result"
    }
   ],
   "source": [
    "df.isnull().sum()"
   ]
  },
  {
   "cell_type": "code",
   "execution_count": 35,
   "id": "d6639938",
   "metadata": {},
   "outputs": [
    {
     "data": {
      "text/html": [
       "<div>\n",
       "<style scoped>\n",
       "    .dataframe tbody tr th:only-of-type {\n",
       "        vertical-align: middle;\n",
       "    }\n",
       "\n",
       "    .dataframe tbody tr th {\n",
       "        vertical-align: top;\n",
       "    }\n",
       "\n",
       "    .dataframe thead th {\n",
       "        text-align: right;\n",
       "    }\n",
       "</style>\n",
       "<table border=\"1\" class=\"dataframe\">\n",
       "  <thead>\n",
       "    <tr style=\"text-align: right;\">\n",
       "      <th></th>\n",
       "      <th>SK_ID_CURR</th>\n",
       "      <th>TARGET</th>\n",
       "      <th>NAME_CONTRACT_TYPE</th>\n",
       "      <th>CODE_GENDER</th>\n",
       "      <th>FLAG_OWN_CAR</th>\n",
       "      <th>FLAG_OWN_REALTY</th>\n",
       "      <th>CNT_CHILDREN</th>\n",
       "      <th>AMT_INCOME_TOTAL</th>\n",
       "      <th>AMT_CREDIT</th>\n",
       "      <th>AMT_ANNUITY</th>\n",
       "      <th>...</th>\n",
       "      <th>DAYS_REGISTRATION</th>\n",
       "      <th>DAYS_ID_PUBLISH</th>\n",
       "      <th>FLAG_MOBIL</th>\n",
       "      <th>FLAG_EMP_PHONE</th>\n",
       "      <th>FLAG_WORK_PHONE</th>\n",
       "      <th>FLAG_CONT_MOBILE</th>\n",
       "      <th>FLAG_PHONE</th>\n",
       "      <th>FLAG_EMAIL</th>\n",
       "      <th>OCCUPATION_TYPE</th>\n",
       "      <th>CNT_FAM_MEMBERS</th>\n",
       "    </tr>\n",
       "  </thead>\n",
       "  <tbody>\n",
       "    <tr>\n",
       "      <th>0</th>\n",
       "      <td>100002</td>\n",
       "      <td>1</td>\n",
       "      <td>Cash loans</td>\n",
       "      <td>M</td>\n",
       "      <td>N</td>\n",
       "      <td>Y</td>\n",
       "      <td>0</td>\n",
       "      <td>202500.0</td>\n",
       "      <td>406597.5</td>\n",
       "      <td>24700.5</td>\n",
       "      <td>...</td>\n",
       "      <td>-3648.0</td>\n",
       "      <td>-2120</td>\n",
       "      <td>1</td>\n",
       "      <td>1</td>\n",
       "      <td>0</td>\n",
       "      <td>1</td>\n",
       "      <td>1</td>\n",
       "      <td>0</td>\n",
       "      <td>Laborers</td>\n",
       "      <td>1.0</td>\n",
       "    </tr>\n",
       "    <tr>\n",
       "      <th>1</th>\n",
       "      <td>100031</td>\n",
       "      <td>1</td>\n",
       "      <td>Cash loans</td>\n",
       "      <td>F</td>\n",
       "      <td>N</td>\n",
       "      <td>Y</td>\n",
       "      <td>0</td>\n",
       "      <td>112500.0</td>\n",
       "      <td>979992.0</td>\n",
       "      <td>27076.5</td>\n",
       "      <td>...</td>\n",
       "      <td>-6573.0</td>\n",
       "      <td>-1827</td>\n",
       "      <td>1</td>\n",
       "      <td>1</td>\n",
       "      <td>0</td>\n",
       "      <td>1</td>\n",
       "      <td>0</td>\n",
       "      <td>0</td>\n",
       "      <td>Cooking staff</td>\n",
       "      <td>1.0</td>\n",
       "    </tr>\n",
       "    <tr>\n",
       "      <th>2</th>\n",
       "      <td>100047</td>\n",
       "      <td>1</td>\n",
       "      <td>Cash loans</td>\n",
       "      <td>M</td>\n",
       "      <td>N</td>\n",
       "      <td>Y</td>\n",
       "      <td>0</td>\n",
       "      <td>202500.0</td>\n",
       "      <td>1193580.0</td>\n",
       "      <td>35028.0</td>\n",
       "      <td>...</td>\n",
       "      <td>-1182.0</td>\n",
       "      <td>-1029</td>\n",
       "      <td>1</td>\n",
       "      <td>1</td>\n",
       "      <td>0</td>\n",
       "      <td>1</td>\n",
       "      <td>0</td>\n",
       "      <td>0</td>\n",
       "      <td>Laborers</td>\n",
       "      <td>2.0</td>\n",
       "    </tr>\n",
       "    <tr>\n",
       "      <th>3</th>\n",
       "      <td>100049</td>\n",
       "      <td>1</td>\n",
       "      <td>Cash loans</td>\n",
       "      <td>F</td>\n",
       "      <td>N</td>\n",
       "      <td>N</td>\n",
       "      <td>0</td>\n",
       "      <td>135000.0</td>\n",
       "      <td>288873.0</td>\n",
       "      <td>16258.5</td>\n",
       "      <td>...</td>\n",
       "      <td>-45.0</td>\n",
       "      <td>-4409</td>\n",
       "      <td>1</td>\n",
       "      <td>1</td>\n",
       "      <td>1</td>\n",
       "      <td>1</td>\n",
       "      <td>1</td>\n",
       "      <td>0</td>\n",
       "      <td>Sales staff</td>\n",
       "      <td>2.0</td>\n",
       "    </tr>\n",
       "    <tr>\n",
       "      <th>4</th>\n",
       "      <td>100096</td>\n",
       "      <td>1</td>\n",
       "      <td>Cash loans</td>\n",
       "      <td>F</td>\n",
       "      <td>N</td>\n",
       "      <td>Y</td>\n",
       "      <td>0</td>\n",
       "      <td>81000.0</td>\n",
       "      <td>252000.0</td>\n",
       "      <td>14593.5</td>\n",
       "      <td>...</td>\n",
       "      <td>-5391.0</td>\n",
       "      <td>-4199</td>\n",
       "      <td>1</td>\n",
       "      <td>0</td>\n",
       "      <td>0</td>\n",
       "      <td>1</td>\n",
       "      <td>0</td>\n",
       "      <td>0</td>\n",
       "      <td>Laborers</td>\n",
       "      <td>2.0</td>\n",
       "    </tr>\n",
       "  </tbody>\n",
       "</table>\n",
       "<p>5 rows × 29 columns</p>\n",
       "</div>"
      ],
      "text/plain": [
       "   SK_ID_CURR  TARGET NAME_CONTRACT_TYPE CODE_GENDER FLAG_OWN_CAR  \\\n",
       "0      100002       1         Cash loans           M            N   \n",
       "1      100031       1         Cash loans           F            N   \n",
       "2      100047       1         Cash loans           M            N   \n",
       "3      100049       1         Cash loans           F            N   \n",
       "4      100096       1         Cash loans           F            N   \n",
       "\n",
       "  FLAG_OWN_REALTY  CNT_CHILDREN  AMT_INCOME_TOTAL  AMT_CREDIT  AMT_ANNUITY  \\\n",
       "0               Y             0          202500.0    406597.5      24700.5   \n",
       "1               Y             0          112500.0    979992.0      27076.5   \n",
       "2               Y             0          202500.0   1193580.0      35028.0   \n",
       "3               N             0          135000.0    288873.0      16258.5   \n",
       "4               Y             0           81000.0    252000.0      14593.5   \n",
       "\n",
       "   ...  DAYS_REGISTRATION DAYS_ID_PUBLISH FLAG_MOBIL FLAG_EMP_PHONE  \\\n",
       "0  ...            -3648.0           -2120          1              1   \n",
       "1  ...            -6573.0           -1827          1              1   \n",
       "2  ...            -1182.0           -1029          1              1   \n",
       "3  ...              -45.0           -4409          1              1   \n",
       "4  ...            -5391.0           -4199          1              0   \n",
       "\n",
       "  FLAG_WORK_PHONE FLAG_CONT_MOBILE  FLAG_PHONE  FLAG_EMAIL  OCCUPATION_TYPE  \\\n",
       "0               0                1           1           0         Laborers   \n",
       "1               0                1           0           0    Cooking staff   \n",
       "2               0                1           0           0         Laborers   \n",
       "3               1                1           1           0      Sales staff   \n",
       "4               0                1           0           0         Laborers   \n",
       "\n",
       "   CNT_FAM_MEMBERS  \n",
       "0              1.0  \n",
       "1              1.0  \n",
       "2              2.0  \n",
       "3              2.0  \n",
       "4              2.0  \n",
       "\n",
       "[5 rows x 29 columns]"
      ]
     },
     "execution_count": 35,
     "metadata": {},
     "output_type": "execute_result"
    }
   ],
   "source": [
    "df.head()"
   ]
  },
  {
   "cell_type": "code",
   "execution_count": 36,
   "id": "494e50aa",
   "metadata": {},
   "outputs": [
    {
     "name": "stdout",
     "output_type": "stream",
     "text": [
      "<class 'pandas.core.frame.DataFrame'>\n",
      "RangeIndex: 74825 entries, 0 to 74824\n",
      "Data columns (total 29 columns):\n",
      " #   Column                      Non-Null Count  Dtype  \n",
      "---  ------                      --------------  -----  \n",
      " 0   SK_ID_CURR                  74825 non-null  int64  \n",
      " 1   TARGET                      74825 non-null  int64  \n",
      " 2   NAME_CONTRACT_TYPE          74825 non-null  object \n",
      " 3   CODE_GENDER                 74825 non-null  object \n",
      " 4   FLAG_OWN_CAR                74825 non-null  object \n",
      " 5   FLAG_OWN_REALTY             74825 non-null  object \n",
      " 6   CNT_CHILDREN                74825 non-null  int64  \n",
      " 7   AMT_INCOME_TOTAL            74825 non-null  float64\n",
      " 8   AMT_CREDIT                  74825 non-null  float64\n",
      " 9   AMT_ANNUITY                 74825 non-null  float64\n",
      " 10  AMT_GOODS_PRICE             74825 non-null  float64\n",
      " 11  NAME_TYPE_SUITE             74825 non-null  object \n",
      " 12  NAME_INCOME_TYPE            74825 non-null  object \n",
      " 13  NAME_EDUCATION_TYPE         74825 non-null  object \n",
      " 14  NAME_FAMILY_STATUS          74825 non-null  object \n",
      " 15  NAME_HOUSING_TYPE           74825 non-null  object \n",
      " 16  REGION_POPULATION_RELATIVE  74825 non-null  float64\n",
      " 17  DAYS_BIRTH                  74825 non-null  int64  \n",
      " 18  DAYS_EMPLOYED               74825 non-null  int64  \n",
      " 19  DAYS_REGISTRATION           74825 non-null  float64\n",
      " 20  DAYS_ID_PUBLISH             74825 non-null  int64  \n",
      " 21  FLAG_MOBIL                  74825 non-null  int64  \n",
      " 22  FLAG_EMP_PHONE              74825 non-null  int64  \n",
      " 23  FLAG_WORK_PHONE             74825 non-null  int64  \n",
      " 24  FLAG_CONT_MOBILE            74825 non-null  int64  \n",
      " 25  FLAG_PHONE                  74825 non-null  int64  \n",
      " 26  FLAG_EMAIL                  74825 non-null  int64  \n",
      " 27  OCCUPATION_TYPE             74825 non-null  object \n",
      " 28  CNT_FAM_MEMBERS             74825 non-null  float64\n",
      "dtypes: float64(7), int64(12), object(10)\n",
      "memory usage: 16.6+ MB\n"
     ]
    }
   ],
   "source": [
    "df.info()"
   ]
  },
  {
   "cell_type": "code",
   "execution_count": 37,
   "id": "961faf54",
   "metadata": {},
   "outputs": [
    {
     "data": {
      "image/png": "[encoded data removed]",
      "text/plain": [
       "<Figure size 2000x4000 with 19 Axes>"
      ]
     },
     "metadata": {},
     "output_type": "display_data"
    }
   ],
   "source": [
    "numeric_columns = df.select_dtypes(include=['float64', 'int64']).columns\n",
    "\n",
    "plt.figure(figsize=(20, 40))\n",
    "for i, column in enumerate(numeric_columns, 1):\n",
    "    plt.subplot(len(numeric_columns), 1, i)\n",
    "    plt.hist(df[column].dropna(), bins=30, edgecolor='black')\n",
    "    plt.title(f'Histogram of {column}')\n",
    "    plt.xlabel(column)\n",
    "    plt.ylabel('Frequency')\n",
    "\n",
    "plt.tight_layout()\n",
    "plt.show()"
   ]
  },
  {
   "cell_type": "code",
   "execution_count": 38,
   "id": "96492a22",
   "metadata": {},
   "outputs": [
    {
     "name": "stdout",
     "output_type": "stream",
     "text": [
      "<class 'pandas.core.frame.DataFrame'>\n",
      "RangeIndex: 74825 entries, 0 to 74824\n",
      "Data columns (total 29 columns):\n",
      " #   Column                      Non-Null Count  Dtype  \n",
      "---  ------                      --------------  -----  \n",
      " 0   SK_ID_CURR                  74825 non-null  int64  \n",
      " 1   TARGET                      74825 non-null  int64  \n",
      " 2   NAME_CONTRACT_TYPE          74825 non-null  object \n",
      " 3   CODE_GENDER                 74825 non-null  object \n",
      " 4   FLAG_OWN_CAR                74825 non-null  object \n",
      " 5   FLAG_OWN_REALTY             74825 non-null  object \n",
      " 6   CNT_CHILDREN                74825 non-null  int64  \n",
      " 7   AMT_INCOME_TOTAL            74825 non-null  float64\n",
      " 8   AMT_CREDIT                  74825 non-null  float64\n",
      " 9   AMT_ANNUITY                 74825 non-null  float64\n",
      " 10  AMT_GOODS_PRICE             74825 non-null  float64\n",
      " 11  NAME_TYPE_SUITE             74825 non-null  object \n",
      " 12  NAME_INCOME_TYPE            74825 non-null  object \n",
      " 13  NAME_EDUCATION_TYPE         74825 non-null  object \n",
      " 14  NAME_FAMILY_STATUS          74825 non-null  object \n",
      " 15  NAME_HOUSING_TYPE           74825 non-null  object \n",
      " 16  REGION_POPULATION_RELATIVE  74825 non-null  float64\n",
      " 17  DAYS_BIRTH                  74825 non-null  int64  \n",
      " 18  DAYS_EMPLOYED               74825 non-null  int64  \n",
      " 19  DAYS_REGISTRATION           74825 non-null  float64\n",
      " 20  DAYS_ID_PUBLISH             74825 non-null  int64  \n",
      " 21  FLAG_MOBIL                  74825 non-null  int64  \n",
      " 22  FLAG_EMP_PHONE              74825 non-null  int64  \n",
      " 23  FLAG_WORK_PHONE             74825 non-null  int64  \n",
      " 24  FLAG_CONT_MOBILE            74825 non-null  int64  \n",
      " 25  FLAG_PHONE                  74825 non-null  int64  \n",
      " 26  FLAG_EMAIL                  74825 non-null  int64  \n",
      " 27  OCCUPATION_TYPE             74825 non-null  object \n",
      " 28  CNT_FAM_MEMBERS             74825 non-null  float64\n",
      "dtypes: float64(7), int64(12), object(10)\n",
      "memory usage: 16.6+ MB\n"
     ]
    }
   ],
   "source": [
    "df.info()"
   ]
  },
  {
   "cell_type": "markdown",
   "id": "c9630622",
   "metadata": {},
   "source": [
    "### Feature Extraction"
   ]
  },
  {
   "cell_type": "code",
   "execution_count": 39,
   "id": "f0580302",
   "metadata": {},
   "outputs": [],
   "source": [
    "df.drop(columns = 'SK_ID_CURR', inplace = True)"
   ]
  },
  {
   "cell_type": "code",
   "execution_count": 40,
   "id": "8cff1051",
   "metadata": {},
   "outputs": [
    {
     "data": {
      "text/plain": [
       "DAYS_BIRTH\n",
       "-25197    1\n",
       "-25186    1\n",
       "-25179    1\n",
       "-25177    1\n",
       "-25175    1\n",
       "         ..\n",
       "-7684     1\n",
       "-7683     1\n",
       "-7682     1\n",
       "-7680     1\n",
       "-7678     1\n",
       "Name: count, Length: 16550, dtype: int64"
      ]
     },
     "execution_count": 40,
     "metadata": {},
     "output_type": "execute_result"
    }
   ],
   "source": [
    "df['DAYS_BIRTH'].value_counts().sort_index()"
   ]
  },
  {
   "cell_type": "code",
   "execution_count": 41,
   "id": "fe0c7e42",
   "metadata": {},
   "outputs": [
    {
     "name": "stdout",
     "output_type": "stream",
     "text": [
      "0        25\n",
      "1        51\n",
      "2        47\n",
      "3        36\n",
      "4        67\n",
      "         ..\n",
      "74820    55\n",
      "74821    30\n",
      "74822    42\n",
      "74823    28\n",
      "74824    44\n",
      "Name: AGE, Length: 74825, dtype: int64\n"
     ]
    }
   ],
   "source": [
    "df['AGE'] = df['DAYS_BIRTH'].abs()\n",
    "\n",
    "df['AGE'] = df['AGE'] // 365\n",
    "\n",
    "print(df['AGE'])"
   ]
  },
  {
   "cell_type": "code",
   "execution_count": 42,
   "id": "a69b218f",
   "metadata": {},
   "outputs": [],
   "source": [
    "df.drop(columns = ['DAYS_BIRTH'], inplace = True)"
   ]
  },
  {
   "cell_type": "code",
   "execution_count": 43,
   "id": "bf44fd1f",
   "metadata": {},
   "outputs": [
    {
     "data": {
      "text/plain": [
       "0"
      ]
     },
     "execution_count": 43,
     "metadata": {},
     "output_type": "execute_result"
    }
   ],
   "source": [
    "df['AGE'].isnull().sum()"
   ]
  },
  {
   "cell_type": "code",
   "execution_count": 44,
   "id": "57197c4a",
   "metadata": {},
   "outputs": [
    {
     "data": {
      "text/plain": [
       "DAYS_EMPLOYED\n",
       "-17546         1\n",
       "-16849         1\n",
       "-16495         1\n",
       "-16452         1\n",
       "-16360         1\n",
       "           ...  \n",
       "-4             2\n",
       "-3             1\n",
       "-2             1\n",
       " 0             1\n",
       " 365243    12176\n",
       "Name: count, Length: 8777, dtype: int64"
      ]
     },
     "execution_count": 44,
     "metadata": {},
     "output_type": "execute_result"
    }
   ],
   "source": [
    "df['DAYS_EMPLOYED'].value_counts().sort_index()"
   ]
  },
  {
   "cell_type": "code",
   "execution_count": 45,
   "id": "3c18576f",
   "metadata": {},
   "outputs": [],
   "source": [
    "df['DAYS_EMPLOYED'] = df['DAYS_EMPLOYED'].abs()\n",
    "\n",
    "# Convert days to years (if needed)\n",
    "df['EMPLOYMENT_YEARS'] = df['DAYS_EMPLOYED'] // 365"
   ]
  },
  {
   "cell_type": "code",
   "execution_count": 46,
   "id": "20eaac60",
   "metadata": {},
   "outputs": [
    {
     "data": {
      "text/plain": [
       "EMPLOYMENT_YEARS\n",
       "0        7423\n",
       "1        8643\n",
       "2        7934\n",
       "3        6476\n",
       "4        5500\n",
       "5        3965\n",
       "6        3540\n",
       "7        3148\n",
       "8        2689\n",
       "9        2049\n",
       "10       1671\n",
       "11       1323\n",
       "12       1217\n",
       "13       1004\n",
       "14       1006\n",
       "15        582\n",
       "16        495\n",
       "17        453\n",
       "18        433\n",
       "19        407\n",
       "20        348\n",
       "21        331\n",
       "22        258\n",
       "23        232\n",
       "24        196\n",
       "25        177\n",
       "26        125\n",
       "27        127\n",
       "28        144\n",
       "29        131\n",
       "30        103\n",
       "31        101\n",
       "32         68\n",
       "33         74\n",
       "34         72\n",
       "35         52\n",
       "36         34\n",
       "37         26\n",
       "38         18\n",
       "39         33\n",
       "40         13\n",
       "41          9\n",
       "42          9\n",
       "43          1\n",
       "44          5\n",
       "45          2\n",
       "46          1\n",
       "48          1\n",
       "1000    12176\n",
       "Name: count, dtype: int64"
      ]
     },
     "execution_count": 46,
     "metadata": {},
     "output_type": "execute_result"
    }
   ],
   "source": [
    "df['EMPLOYMENT_YEARS'].value_counts().sort_index()"
   ]
  },
  {
   "cell_type": "code",
   "execution_count": 47,
   "id": "dd205a22",
   "metadata": {},
   "outputs": [],
   "source": [
    "df = df.drop(columns = ['DAYS_EMPLOYED'])"
   ]
  },
  {
   "cell_type": "code",
   "execution_count": 48,
   "id": "89eccfc6",
   "metadata": {},
   "outputs": [
    {
     "data": {
      "text/plain": [
       "DAYS_REGISTRATION\n",
       "-22928.0     1\n",
       "-21865.0     1\n",
       "-20840.0     1\n",
       "-20741.0     1\n",
       "-20623.0     1\n",
       "            ..\n",
       "-4.0        28\n",
       "-3.0        19\n",
       "-2.0        32\n",
       "-1.0        38\n",
       " 0.0        20\n",
       "Name: count, Length: 13322, dtype: int64"
      ]
     },
     "execution_count": 48,
     "metadata": {},
     "output_type": "execute_result"
    }
   ],
   "source": [
    "df['DAYS_REGISTRATION'].value_counts().sort_index()"
   ]
  },
  {
   "cell_type": "code",
   "execution_count": 49,
   "id": "eef9c6c6",
   "metadata": {},
   "outputs": [],
   "source": [
    "df['DAYS_REGISTRATION'] = df['DAYS_REGISTRATION'].abs()\n",
    "\n",
    "# Convert days to years (if needed)\n",
    "df['REGISTRATION_YEARS'] = df['DAYS_REGISTRATION'] // 365"
   ]
  },
  {
   "cell_type": "code",
   "execution_count": 50,
   "id": "63c31ff2",
   "metadata": {},
   "outputs": [],
   "source": [
    "df = df.drop(columns = ['DAYS_REGISTRATION'])"
   ]
  },
  {
   "cell_type": "code",
   "execution_count": 51,
   "id": "50662f93",
   "metadata": {},
   "outputs": [
    {
     "data": {
      "text/plain": [
       "REGISTRATION_YEARS\n",
       "0.0     4319\n",
       "1.0     3971\n",
       "2.0     3860\n",
       "3.0     3188\n",
       "4.0     2785\n",
       "5.0     2586\n",
       "6.0     2730\n",
       "7.0     3006\n",
       "8.0     2738\n",
       "9.0     2571\n",
       "10.0    2664\n",
       "11.0    3142\n",
       "12.0    3177\n",
       "13.0    3107\n",
       "14.0    2451\n",
       "15.0    2109\n",
       "16.0    2162\n",
       "17.0    1974\n",
       "18.0    1913\n",
       "19.0    1962\n",
       "20.0    1742\n",
       "21.0    1723\n",
       "22.0    1841\n",
       "23.0    1647\n",
       "24.0    1721\n",
       "25.0    1448\n",
       "26.0    1315\n",
       "27.0    1110\n",
       "28.0     948\n",
       "29.0     780\n",
       "30.0     637\n",
       "31.0     561\n",
       "32.0     533\n",
       "33.0     457\n",
       "34.0     427\n",
       "35.0     355\n",
       "36.0     311\n",
       "37.0     212\n",
       "38.0     174\n",
       "39.0     117\n",
       "40.0      95\n",
       "41.0      70\n",
       "42.0      58\n",
       "43.0      39\n",
       "44.0      25\n",
       "45.0      16\n",
       "46.0       7\n",
       "47.0       7\n",
       "48.0       7\n",
       "49.0       5\n",
       "50.0       4\n",
       "51.0       3\n",
       "52.0       2\n",
       "53.0       6\n",
       "55.0       1\n",
       "56.0       3\n",
       "57.0       1\n",
       "59.0       1\n",
       "62.0       1\n",
       "Name: count, dtype: int64"
      ]
     },
     "execution_count": 51,
     "metadata": {},
     "output_type": "execute_result"
    }
   ],
   "source": [
    "df['REGISTRATION_YEARS'].value_counts().sort_index()"
   ]
  },
  {
   "cell_type": "code",
   "execution_count": 52,
   "id": "20e6849d",
   "metadata": {},
   "outputs": [
    {
     "data": {
      "text/plain": [
       "DAYS_ID_PUBLISH\n",
       "-6263     1\n",
       "-6226     1\n",
       "-6214     1\n",
       "-6211     1\n",
       "-6207     1\n",
       "         ..\n",
       "-4       11\n",
       "-3       10\n",
       "-2       13\n",
       "-1       19\n",
       " 0        3\n",
       "Name: count, Length: 5847, dtype: int64"
      ]
     },
     "execution_count": 52,
     "metadata": {},
     "output_type": "execute_result"
    }
   ],
   "source": [
    "df['DAYS_ID_PUBLISH'].value_counts().sort_index()"
   ]
  },
  {
   "cell_type": "code",
   "execution_count": 53,
   "id": "ad63b1c6",
   "metadata": {},
   "outputs": [],
   "source": [
    "df['DAYS_ID_PUBLISH'] = df['DAYS_ID_PUBLISH'].abs()\n",
    "\n",
    "# Convert days to years (if needed)\n",
    "df['PUBLISH_YEARS'] = df['DAYS_ID_PUBLISH'] // 365"
   ]
  },
  {
   "cell_type": "code",
   "execution_count": 54,
   "id": "047fbef4",
   "metadata": {},
   "outputs": [],
   "source": [
    "df = df.drop(columns = ['DAYS_ID_PUBLISH'])"
   ]
  },
  {
   "cell_type": "code",
   "execution_count": 55,
   "id": "44c69d5f",
   "metadata": {},
   "outputs": [
    {
     "data": {
      "text/plain": [
       "PUBLISH_YEARS\n",
       "0      3960\n",
       "1      4091\n",
       "2      4526\n",
       "3      4373\n",
       "4      4186\n",
       "5      4364\n",
       "6      4654\n",
       "7      4764\n",
       "8      4579\n",
       "9      4581\n",
       "10     5156\n",
       "11    10396\n",
       "12     8677\n",
       "13     4581\n",
       "14     1300\n",
       "15      441\n",
       "16      191\n",
       "17        5\n",
       "Name: count, dtype: int64"
      ]
     },
     "execution_count": 55,
     "metadata": {},
     "output_type": "execute_result"
    }
   ],
   "source": [
    "df['PUBLISH_YEARS'].value_counts().sort_index()"
   ]
  },
  {
   "cell_type": "code",
   "execution_count": 56,
   "id": "c8f3ecbf",
   "metadata": {},
   "outputs": [
    {
     "data": {
      "text/html": [
       "<div>\n",
       "<style scoped>\n",
       "    .dataframe tbody tr th:only-of-type {\n",
       "        vertical-align: middle;\n",
       "    }\n",
       "\n",
       "    .dataframe tbody tr th {\n",
       "        vertical-align: top;\n",
       "    }\n",
       "\n",
       "    .dataframe thead th {\n",
       "        text-align: right;\n",
       "    }\n",
       "</style>\n",
       "<table border=\"1\" class=\"dataframe\">\n",
       "  <thead>\n",
       "    <tr style=\"text-align: right;\">\n",
       "      <th></th>\n",
       "      <th>TARGET</th>\n",
       "      <th>NAME_CONTRACT_TYPE</th>\n",
       "      <th>CODE_GENDER</th>\n",
       "      <th>FLAG_OWN_CAR</th>\n",
       "      <th>FLAG_OWN_REALTY</th>\n",
       "      <th>CNT_CHILDREN</th>\n",
       "      <th>AMT_INCOME_TOTAL</th>\n",
       "      <th>AMT_CREDIT</th>\n",
       "      <th>AMT_ANNUITY</th>\n",
       "      <th>AMT_GOODS_PRICE</th>\n",
       "      <th>...</th>\n",
       "      <th>FLAG_WORK_PHONE</th>\n",
       "      <th>FLAG_CONT_MOBILE</th>\n",
       "      <th>FLAG_PHONE</th>\n",
       "      <th>FLAG_EMAIL</th>\n",
       "      <th>OCCUPATION_TYPE</th>\n",
       "      <th>CNT_FAM_MEMBERS</th>\n",
       "      <th>AGE</th>\n",
       "      <th>EMPLOYMENT_YEARS</th>\n",
       "      <th>REGISTRATION_YEARS</th>\n",
       "      <th>PUBLISH_YEARS</th>\n",
       "    </tr>\n",
       "  </thead>\n",
       "  <tbody>\n",
       "    <tr>\n",
       "      <th>0</th>\n",
       "      <td>1</td>\n",
       "      <td>Cash loans</td>\n",
       "      <td>M</td>\n",
       "      <td>N</td>\n",
       "      <td>Y</td>\n",
       "      <td>0</td>\n",
       "      <td>202500.0</td>\n",
       "      <td>406597.5</td>\n",
       "      <td>24700.5</td>\n",
       "      <td>351000.0</td>\n",
       "      <td>...</td>\n",
       "      <td>0</td>\n",
       "      <td>1</td>\n",
       "      <td>1</td>\n",
       "      <td>0</td>\n",
       "      <td>Laborers</td>\n",
       "      <td>1.0</td>\n",
       "      <td>25</td>\n",
       "      <td>1</td>\n",
       "      <td>9.0</td>\n",
       "      <td>5</td>\n",
       "    </tr>\n",
       "    <tr>\n",
       "      <th>1</th>\n",
       "      <td>1</td>\n",
       "      <td>Cash loans</td>\n",
       "      <td>F</td>\n",
       "      <td>N</td>\n",
       "      <td>Y</td>\n",
       "      <td>0</td>\n",
       "      <td>112500.0</td>\n",
       "      <td>979992.0</td>\n",
       "      <td>27076.5</td>\n",
       "      <td>702000.0</td>\n",
       "      <td>...</td>\n",
       "      <td>0</td>\n",
       "      <td>1</td>\n",
       "      <td>0</td>\n",
       "      <td>0</td>\n",
       "      <td>Cooking staff</td>\n",
       "      <td>1.0</td>\n",
       "      <td>51</td>\n",
       "      <td>7</td>\n",
       "      <td>18.0</td>\n",
       "      <td>5</td>\n",
       "    </tr>\n",
       "    <tr>\n",
       "      <th>2</th>\n",
       "      <td>1</td>\n",
       "      <td>Cash loans</td>\n",
       "      <td>M</td>\n",
       "      <td>N</td>\n",
       "      <td>Y</td>\n",
       "      <td>0</td>\n",
       "      <td>202500.0</td>\n",
       "      <td>1193580.0</td>\n",
       "      <td>35028.0</td>\n",
       "      <td>855000.0</td>\n",
       "      <td>...</td>\n",
       "      <td>0</td>\n",
       "      <td>1</td>\n",
       "      <td>0</td>\n",
       "      <td>0</td>\n",
       "      <td>Laborers</td>\n",
       "      <td>2.0</td>\n",
       "      <td>47</td>\n",
       "      <td>3</td>\n",
       "      <td>3.0</td>\n",
       "      <td>2</td>\n",
       "    </tr>\n",
       "    <tr>\n",
       "      <th>3</th>\n",
       "      <td>1</td>\n",
       "      <td>Cash loans</td>\n",
       "      <td>F</td>\n",
       "      <td>N</td>\n",
       "      <td>N</td>\n",
       "      <td>0</td>\n",
       "      <td>135000.0</td>\n",
       "      <td>288873.0</td>\n",
       "      <td>16258.5</td>\n",
       "      <td>238500.0</td>\n",
       "      <td>...</td>\n",
       "      <td>1</td>\n",
       "      <td>1</td>\n",
       "      <td>1</td>\n",
       "      <td>0</td>\n",
       "      <td>Sales staff</td>\n",
       "      <td>2.0</td>\n",
       "      <td>36</td>\n",
       "      <td>9</td>\n",
       "      <td>0.0</td>\n",
       "      <td>12</td>\n",
       "    </tr>\n",
       "    <tr>\n",
       "      <th>4</th>\n",
       "      <td>1</td>\n",
       "      <td>Cash loans</td>\n",
       "      <td>F</td>\n",
       "      <td>N</td>\n",
       "      <td>Y</td>\n",
       "      <td>0</td>\n",
       "      <td>81000.0</td>\n",
       "      <td>252000.0</td>\n",
       "      <td>14593.5</td>\n",
       "      <td>252000.0</td>\n",
       "      <td>...</td>\n",
       "      <td>0</td>\n",
       "      <td>1</td>\n",
       "      <td>0</td>\n",
       "      <td>0</td>\n",
       "      <td>Laborers</td>\n",
       "      <td>2.0</td>\n",
       "      <td>67</td>\n",
       "      <td>1000</td>\n",
       "      <td>14.0</td>\n",
       "      <td>11</td>\n",
       "    </tr>\n",
       "  </tbody>\n",
       "</table>\n",
       "<p>5 rows × 28 columns</p>\n",
       "</div>"
      ],
      "text/plain": [
       "   TARGET NAME_CONTRACT_TYPE CODE_GENDER FLAG_OWN_CAR FLAG_OWN_REALTY  \\\n",
       "0       1         Cash loans           M            N               Y   \n",
       "1       1         Cash loans           F            N               Y   \n",
       "2       1         Cash loans           M            N               Y   \n",
       "3       1         Cash loans           F            N               N   \n",
       "4       1         Cash loans           F            N               Y   \n",
       "\n",
       "   CNT_CHILDREN  AMT_INCOME_TOTAL  AMT_CREDIT  AMT_ANNUITY  AMT_GOODS_PRICE  \\\n",
       "0             0          202500.0    406597.5      24700.5         351000.0   \n",
       "1             0          112500.0    979992.0      27076.5         702000.0   \n",
       "2             0          202500.0   1193580.0      35028.0         855000.0   \n",
       "3             0          135000.0    288873.0      16258.5         238500.0   \n",
       "4             0           81000.0    252000.0      14593.5         252000.0   \n",
       "\n",
       "   ... FLAG_WORK_PHONE FLAG_CONT_MOBILE FLAG_PHONE FLAG_EMAIL OCCUPATION_TYPE  \\\n",
       "0  ...               0                1          1          0        Laborers   \n",
       "1  ...               0                1          0          0   Cooking staff   \n",
       "2  ...               0                1          0          0        Laborers   \n",
       "3  ...               1                1          1          0     Sales staff   \n",
       "4  ...               0                1          0          0        Laborers   \n",
       "\n",
       "   CNT_FAM_MEMBERS  AGE  EMPLOYMENT_YEARS  REGISTRATION_YEARS  PUBLISH_YEARS  \n",
       "0              1.0   25                 1                 9.0              5  \n",
       "1              1.0   51                 7                18.0              5  \n",
       "2              2.0   47                 3                 3.0              2  \n",
       "3              2.0   36                 9                 0.0             12  \n",
       "4              2.0   67              1000                14.0             11  \n",
       "\n",
       "[5 rows x 28 columns]"
      ]
     },
     "execution_count": 56,
     "metadata": {},
     "output_type": "execute_result"
    }
   ],
   "source": [
    "df.head()"
   ]
  },
  {
   "cell_type": "code",
   "execution_count": 57,
   "id": "4a0bd0a7",
   "metadata": {},
   "outputs": [
    {
     "data": {
      "text/plain": [
       "OCCUPATION_TYPE\n",
       "Laborers                 36811\n",
       "Sales staff               8193\n",
       "Core staff                6275\n",
       "Drivers                   5025\n",
       "Managers                  4946\n",
       "High skill tech staff     2579\n",
       "Accountants               2132\n",
       "Medicine staff            1951\n",
       "Security staff            1781\n",
       "Cooking staff             1524\n",
       "Cleaning staff            1187\n",
       "Low-skill Laborers         668\n",
       "Private service staff      622\n",
       "Waiters/barmen staff       373\n",
       "Secretaries                317\n",
       "Realty agents              193\n",
       "HR staff                   126\n",
       "IT staff                   122\n",
       "Name: count, dtype: int64"
      ]
     },
     "execution_count": 57,
     "metadata": {},
     "output_type": "execute_result"
    }
   ],
   "source": [
    "df['OCCUPATION_TYPE'].value_counts()"
   ]
  },
  {
   "cell_type": "code",
   "execution_count": 58,
   "id": "7ec4c6f3",
   "metadata": {},
   "outputs": [
    {
     "name": "stdout",
     "output_type": "stream",
     "text": [
      "TARGET 0\n",
      "CNT_CHILDREN 1121\n",
      "AMT_INCOME_TOTAL 3226\n",
      "AMT_CREDIT 1607\n",
      "AMT_ANNUITY 1731\n",
      "AMT_GOODS_PRICE 3082\n",
      "REGION_POPULATION_RELATIVE 1878\n",
      "FLAG_MOBIL 0\n",
      "FLAG_EMP_PHONE 12178\n",
      "FLAG_WORK_PHONE 15757\n",
      "FLAG_CONT_MOBILE 134\n",
      "FLAG_PHONE 0\n",
      "FLAG_EMAIL 4257\n",
      "CNT_FAM_MEMBERS 1054\n",
      "AGE 0\n",
      "EMPLOYMENT_YEARS 12798\n",
      "REGISTRATION_YEARS 256\n",
      "PUBLISH_YEARS 0\n"
     ]
    }
   ],
   "source": [
    "for i in df.select_dtypes(include='number').columns:\n",
    "    Q1 = df[i].quantile(0.25)\n",
    "    Q3 = df[i].quantile(0.75)\n",
    "    IQR = Q3 - Q1\n",
    "        \n",
    "    lower_bound = Q1 - 1.5 * IQR\n",
    "    upper_bound = Q3 + 1.5 * IQR\n",
    "\n",
    "    outliers = (df[i] < lower_bound) | (df[i] > upper_bound)\n",
    "    print(i, outliers.sum())"
   ]
  },
  {
   "cell_type": "code",
   "execution_count": 59,
   "id": "70e0e4bb",
   "metadata": {},
   "outputs": [
    {
     "name": "stdout",
     "output_type": "stream",
     "text": [
      "<class 'pandas.core.frame.DataFrame'>\n",
      "RangeIndex: 74825 entries, 0 to 74824\n",
      "Data columns (total 28 columns):\n",
      " #   Column                      Non-Null Count  Dtype  \n",
      "---  ------                      --------------  -----  \n",
      " 0   TARGET                      74825 non-null  int64  \n",
      " 1   NAME_CONTRACT_TYPE          74825 non-null  object \n",
      " 2   CODE_GENDER                 74825 non-null  object \n",
      " 3   FLAG_OWN_CAR                74825 non-null  object \n",
      " 4   FLAG_OWN_REALTY             74825 non-null  object \n",
      " 5   CNT_CHILDREN                74825 non-null  int64  \n",
      " 6   AMT_INCOME_TOTAL            74825 non-null  float64\n",
      " 7   AMT_CREDIT                  74825 non-null  float64\n",
      " 8   AMT_ANNUITY                 74825 non-null  float64\n",
      " 9   AMT_GOODS_PRICE             74825 non-null  float64\n",
      " 10  NAME_TYPE_SUITE             74825 non-null  object \n",
      " 11  NAME_INCOME_TYPE            74825 non-null  object \n",
      " 12  NAME_EDUCATION_TYPE         74825 non-null  object \n",
      " 13  NAME_FAMILY_STATUS          74825 non-null  object \n",
      " 14  NAME_HOUSING_TYPE           74825 non-null  object \n",
      " 15  REGION_POPULATION_RELATIVE  74825 non-null  float64\n",
      " 16  FLAG_MOBIL                  74825 non-null  int64  \n",
      " 17  FLAG_EMP_PHONE              74825 non-null  int64  \n",
      " 18  FLAG_WORK_PHONE             74825 non-null  int64  \n",
      " 19  FLAG_CONT_MOBILE            74825 non-null  int64  \n",
      " 20  FLAG_PHONE                  74825 non-null  int64  \n",
      " 21  FLAG_EMAIL                  74825 non-null  int64  \n",
      " 22  OCCUPATION_TYPE             74825 non-null  object \n",
      " 23  CNT_FAM_MEMBERS             74825 non-null  float64\n",
      " 24  AGE                         74825 non-null  int64  \n",
      " 25  EMPLOYMENT_YEARS            74825 non-null  int64  \n",
      " 26  REGISTRATION_YEARS          74825 non-null  float64\n",
      " 27  PUBLISH_YEARS               74825 non-null  int64  \n",
      "dtypes: float64(7), int64(11), object(10)\n",
      "memory usage: 16.0+ MB\n"
     ]
    }
   ],
   "source": [
    "df.info()"
   ]
  },
  {
   "cell_type": "markdown",
   "id": "90880fc6",
   "metadata": {},
   "source": [
    "### Feature Scaling "
   ]
  },
  {
   "cell_type": "code",
   "execution_count": 60,
   "id": "7e756d01",
   "metadata": {},
   "outputs": [],
   "source": [
    "from sklearn.preprocessing import RobustScaler\n",
    "\n",
    "scaler = RobustScaler()"
   ]
  },
  {
   "cell_type": "code",
   "execution_count": 61,
   "id": "8431b95c",
   "metadata": {},
   "outputs": [],
   "source": [
    "columns_to_scale = ['CNT_CHILDREN', 'AMT_INCOME_TOTAL', 'AMT_CREDIT', 'AMT_ANNUITY', 'AMT_GOODS_PRICE', \n",
    "                    'REGION_POPULATION_RELATIVE', 'CNT_FAM_MEMBERS', 'AGE', 'EMPLOYMENT_YEARS', \n",
    "                    'REGISTRATION_YEARS', 'PUBLISH_YEARS'\n",
    "                   ]\n",
    "df[columns_to_scale] = scaler.fit_transform(df[columns_to_scale])"
   ]
  },
  {
   "cell_type": "code",
   "execution_count": 62,
   "id": "3d22a8ec",
   "metadata": {},
   "outputs": [
    {
     "data": {
      "text/html": [
       "<div>\n",
       "<style scoped>\n",
       "    .dataframe tbody tr th:only-of-type {\n",
       "        vertical-align: middle;\n",
       "    }\n",
       "\n",
       "    .dataframe tbody tr th {\n",
       "        vertical-align: top;\n",
       "    }\n",
       "\n",
       "    .dataframe thead th {\n",
       "        text-align: right;\n",
       "    }\n",
       "</style>\n",
       "<table border=\"1\" class=\"dataframe\">\n",
       "  <thead>\n",
       "    <tr style=\"text-align: right;\">\n",
       "      <th></th>\n",
       "      <th>TARGET</th>\n",
       "      <th>CNT_CHILDREN</th>\n",
       "      <th>AMT_INCOME_TOTAL</th>\n",
       "      <th>AMT_CREDIT</th>\n",
       "      <th>AMT_ANNUITY</th>\n",
       "      <th>AMT_GOODS_PRICE</th>\n",
       "      <th>REGION_POPULATION_RELATIVE</th>\n",
       "      <th>FLAG_MOBIL</th>\n",
       "      <th>FLAG_EMP_PHONE</th>\n",
       "      <th>FLAG_WORK_PHONE</th>\n",
       "      <th>FLAG_CONT_MOBILE</th>\n",
       "      <th>FLAG_PHONE</th>\n",
       "      <th>FLAG_EMAIL</th>\n",
       "      <th>CNT_FAM_MEMBERS</th>\n",
       "      <th>AGE</th>\n",
       "      <th>EMPLOYMENT_YEARS</th>\n",
       "      <th>REGISTRATION_YEARS</th>\n",
       "      <th>PUBLISH_YEARS</th>\n",
       "    </tr>\n",
       "  </thead>\n",
       "  <tbody>\n",
       "    <tr>\n",
       "      <th>count</th>\n",
       "      <td>74825.000000</td>\n",
       "      <td>74825.000000</td>\n",
       "      <td>74825.000000</td>\n",
       "      <td>74825.000000</td>\n",
       "      <td>74825.000000</td>\n",
       "      <td>74825.000000</td>\n",
       "      <td>74825.000000</td>\n",
       "      <td>74825.0</td>\n",
       "      <td>74825.000000</td>\n",
       "      <td>74825.000000</td>\n",
       "      <td>74825.000000</td>\n",
       "      <td>74825.000000</td>\n",
       "      <td>74825.000000</td>\n",
       "      <td>74825.000000</td>\n",
       "      <td>74825.000000</td>\n",
       "      <td>74825.000000</td>\n",
       "      <td>74825.000000</td>\n",
       "      <td>74825.000000</td>\n",
       "    </tr>\n",
       "    <tr>\n",
       "      <th>mean</th>\n",
       "      <td>0.331774</td>\n",
       "      <td>0.429509</td>\n",
       "      <td>0.271017</td>\n",
       "      <td>0.152950</td>\n",
       "      <td>0.113648</td>\n",
       "      <td>0.170766</td>\n",
       "      <td>0.099995</td>\n",
       "      <td>1.0</td>\n",
       "      <td>0.837247</td>\n",
       "      <td>0.210585</td>\n",
       "      <td>0.998209</td>\n",
       "      <td>0.271901</td>\n",
       "      <td>0.056893</td>\n",
       "      <td>0.160735</td>\n",
       "      <td>0.080037</td>\n",
       "      <td>14.765713</td>\n",
       "      <td>0.125325</td>\n",
       "      <td>-0.070817</td>\n",
       "    </tr>\n",
       "    <tr>\n",
       "      <th>std</th>\n",
       "      <td>0.470854</td>\n",
       "      <td>0.730592</td>\n",
       "      <td>4.915668</td>\n",
       "      <td>0.750012</td>\n",
       "      <td>0.809630</td>\n",
       "      <td>0.811507</td>\n",
       "      <td>0.823955</td>\n",
       "      <td>0.0</td>\n",
       "      <td>0.369143</td>\n",
       "      <td>0.407727</td>\n",
       "      <td>0.042281</td>\n",
       "      <td>0.444942</td>\n",
       "      <td>0.231639</td>\n",
       "      <td>0.921196</td>\n",
       "      <td>0.625729</td>\n",
       "      <td>33.371873</td>\n",
       "      <td>0.676712</td>\n",
       "      <td>0.593297</td>\n",
       "    </tr>\n",
       "    <tr>\n",
       "      <th>min</th>\n",
       "      <td>0.000000</td>\n",
       "      <td>0.000000</td>\n",
       "      <td>-1.315000</td>\n",
       "      <td>-0.896173</td>\n",
       "      <td>-1.328393</td>\n",
       "      <td>-0.927835</td>\n",
       "      <td>-1.117845</td>\n",
       "      <td>1.0</td>\n",
       "      <td>0.000000</td>\n",
       "      <td>0.000000</td>\n",
       "      <td>0.000000</td>\n",
       "      <td>0.000000</td>\n",
       "      <td>0.000000</td>\n",
       "      <td>-1.000000</td>\n",
       "      <td>-1.052632</td>\n",
       "      <td>-0.454545</td>\n",
       "      <td>-0.785714</td>\n",
       "      <td>-1.142857</td>\n",
       "    </tr>\n",
       "    <tr>\n",
       "      <th>25%</th>\n",
       "      <td>0.000000</td>\n",
       "      <td>0.000000</td>\n",
       "      <td>-0.350000</td>\n",
       "      <td>-0.454103</td>\n",
       "      <td>-0.471659</td>\n",
       "      <td>-0.484536</td>\n",
       "      <td>-0.539729</td>\n",
       "      <td>1.0</td>\n",
       "      <td>1.000000</td>\n",
       "      <td>0.000000</td>\n",
       "      <td>1.000000</td>\n",
       "      <td>0.000000</td>\n",
       "      <td>0.000000</td>\n",
       "      <td>0.000000</td>\n",
       "      <td>-0.421053</td>\n",
       "      <td>-0.272727</td>\n",
       "      <td>-0.428571</td>\n",
       "      <td>-0.571429</td>\n",
       "    </tr>\n",
       "    <tr>\n",
       "      <th>50%</th>\n",
       "      <td>0.000000</td>\n",
       "      <td>0.000000</td>\n",
       "      <td>0.000000</td>\n",
       "      <td>0.000000</td>\n",
       "      <td>0.000000</td>\n",
       "      <td>0.000000</td>\n",
       "      <td>0.000000</td>\n",
       "      <td>1.0</td>\n",
       "      <td>1.000000</td>\n",
       "      <td>0.000000</td>\n",
       "      <td>1.000000</td>\n",
       "      <td>0.000000</td>\n",
       "      <td>0.000000</td>\n",
       "      <td>0.000000</td>\n",
       "      <td>0.000000</td>\n",
       "      <td>0.000000</td>\n",
       "      <td>0.000000</td>\n",
       "      <td>0.000000</td>\n",
       "    </tr>\n",
       "    <tr>\n",
       "      <th>75%</th>\n",
       "      <td>1.000000</td>\n",
       "      <td>1.000000</td>\n",
       "      <td>0.650000</td>\n",
       "      <td>0.545897</td>\n",
       "      <td>0.528341</td>\n",
       "      <td>0.515464</td>\n",
       "      <td>0.460271</td>\n",
       "      <td>1.0</td>\n",
       "      <td>1.000000</td>\n",
       "      <td>0.000000</td>\n",
       "      <td>1.000000</td>\n",
       "      <td>1.000000</td>\n",
       "      <td>0.000000</td>\n",
       "      <td>1.000000</td>\n",
       "      <td>0.578947</td>\n",
       "      <td>0.727273</td>\n",
       "      <td>0.571429</td>\n",
       "      <td>0.428571</td>\n",
       "    </tr>\n",
       "    <tr>\n",
       "      <th>max</th>\n",
       "      <td>1.000000</td>\n",
       "      <td>11.000000</td>\n",
       "      <td>1298.400000</td>\n",
       "      <td>6.847536</td>\n",
       "      <td>11.556942</td>\n",
       "      <td>8.247423</td>\n",
       "      <td>3.274625</td>\n",
       "      <td>1.0</td>\n",
       "      <td>1.000000</td>\n",
       "      <td>1.000000</td>\n",
       "      <td>1.000000</td>\n",
       "      <td>1.000000</td>\n",
       "      <td>1.000000</td>\n",
       "      <td>11.000000</td>\n",
       "      <td>1.473684</td>\n",
       "      <td>90.454545</td>\n",
       "      <td>3.642857</td>\n",
       "      <td>1.285714</td>\n",
       "    </tr>\n",
       "  </tbody>\n",
       "</table>\n",
       "</div>"
      ],
      "text/plain": [
       "             TARGET  CNT_CHILDREN  AMT_INCOME_TOTAL    AMT_CREDIT  \\\n",
       "count  74825.000000  74825.000000      74825.000000  74825.000000   \n",
       "mean       0.331774      0.429509          0.271017      0.152950   \n",
       "std        0.470854      0.730592          4.915668      0.750012   \n",
       "min        0.000000      0.000000         -1.315000     -0.896173   \n",
       "25%        0.000000      0.000000         -0.350000     -0.454103   \n",
       "50%        0.000000      0.000000          0.000000      0.000000   \n",
       "75%        1.000000      1.000000          0.650000      0.545897   \n",
       "max        1.000000     11.000000       1298.400000      6.847536   \n",
       "\n",
       "        AMT_ANNUITY  AMT_GOODS_PRICE  REGION_POPULATION_RELATIVE  FLAG_MOBIL  \\\n",
       "count  74825.000000     74825.000000                74825.000000     74825.0   \n",
       "mean       0.113648         0.170766                    0.099995         1.0   \n",
       "std        0.809630         0.811507                    0.823955         0.0   \n",
       "min       -1.328393        -0.927835                   -1.117845         1.0   \n",
       "25%       -0.471659        -0.484536                   -0.539729         1.0   \n",
       "50%        0.000000         0.000000                    0.000000         1.0   \n",
       "75%        0.528341         0.515464                    0.460271         1.0   \n",
       "max       11.556942         8.247423                    3.274625         1.0   \n",
       "\n",
       "       FLAG_EMP_PHONE  FLAG_WORK_PHONE  FLAG_CONT_MOBILE    FLAG_PHONE  \\\n",
       "count    74825.000000     74825.000000      74825.000000  74825.000000   \n",
       "mean         0.837247         0.210585          0.998209      0.271901   \n",
       "std          0.369143         0.407727          0.042281      0.444942   \n",
       "min          0.000000         0.000000          0.000000      0.000000   \n",
       "25%          1.000000         0.000000          1.000000      0.000000   \n",
       "50%          1.000000         0.000000          1.000000      0.000000   \n",
       "75%          1.000000         0.000000          1.000000      1.000000   \n",
       "max          1.000000         1.000000          1.000000      1.000000   \n",
       "\n",
       "         FLAG_EMAIL  CNT_FAM_MEMBERS           AGE  EMPLOYMENT_YEARS  \\\n",
       "count  74825.000000     74825.000000  74825.000000      74825.000000   \n",
       "mean       0.056893         0.160735      0.080037         14.765713   \n",
       "std        0.231639         0.921196      0.625729         33.371873   \n",
       "min        0.000000        -1.000000     -1.052632         -0.454545   \n",
       "25%        0.000000         0.000000     -0.421053         -0.272727   \n",
       "50%        0.000000         0.000000      0.000000          0.000000   \n",
       "75%        0.000000         1.000000      0.578947          0.727273   \n",
       "max        1.000000        11.000000      1.473684         90.454545   \n",
       "\n",
       "       REGISTRATION_YEARS  PUBLISH_YEARS  \n",
       "count        74825.000000   74825.000000  \n",
       "mean             0.125325      -0.070817  \n",
       "std              0.676712       0.593297  \n",
       "min             -0.785714      -1.142857  \n",
       "25%             -0.428571      -0.571429  \n",
       "50%              0.000000       0.000000  \n",
       "75%              0.571429       0.428571  \n",
       "max              3.642857       1.285714  "
      ]
     },
     "execution_count": 62,
     "metadata": {},
     "output_type": "execute_result"
    }
   ],
   "source": [
    "df.describe()"
   ]
  },
  {
   "cell_type": "code",
   "execution_count": 63,
   "id": "514c8eb0",
   "metadata": {},
   "outputs": [
    {
     "data": {
      "text/html": [
       "<div>\n",
       "<style scoped>\n",
       "    .dataframe tbody tr th:only-of-type {\n",
       "        vertical-align: middle;\n",
       "    }\n",
       "\n",
       "    .dataframe tbody tr th {\n",
       "        vertical-align: top;\n",
       "    }\n",
       "\n",
       "    .dataframe thead th {\n",
       "        text-align: right;\n",
       "    }\n",
       "</style>\n",
       "<table border=\"1\" class=\"dataframe\">\n",
       "  <thead>\n",
       "    <tr style=\"text-align: right;\">\n",
       "      <th></th>\n",
       "      <th>TARGET</th>\n",
       "      <th>NAME_CONTRACT_TYPE</th>\n",
       "      <th>CODE_GENDER</th>\n",
       "      <th>FLAG_OWN_CAR</th>\n",
       "      <th>FLAG_OWN_REALTY</th>\n",
       "      <th>CNT_CHILDREN</th>\n",
       "      <th>AMT_INCOME_TOTAL</th>\n",
       "      <th>AMT_CREDIT</th>\n",
       "      <th>AMT_ANNUITY</th>\n",
       "      <th>AMT_GOODS_PRICE</th>\n",
       "      <th>...</th>\n",
       "      <th>FLAG_WORK_PHONE</th>\n",
       "      <th>FLAG_CONT_MOBILE</th>\n",
       "      <th>FLAG_PHONE</th>\n",
       "      <th>FLAG_EMAIL</th>\n",
       "      <th>OCCUPATION_TYPE</th>\n",
       "      <th>CNT_FAM_MEMBERS</th>\n",
       "      <th>AGE</th>\n",
       "      <th>EMPLOYMENT_YEARS</th>\n",
       "      <th>REGISTRATION_YEARS</th>\n",
       "      <th>PUBLISH_YEARS</th>\n",
       "    </tr>\n",
       "  </thead>\n",
       "  <tbody>\n",
       "    <tr>\n",
       "      <th>0</th>\n",
       "      <td>1</td>\n",
       "      <td>Cash loans</td>\n",
       "      <td>M</td>\n",
       "      <td>N</td>\n",
       "      <td>Y</td>\n",
       "      <td>0.0</td>\n",
       "      <td>0.65</td>\n",
       "      <td>-0.197021</td>\n",
       "      <td>-0.016381</td>\n",
       "      <td>-0.226804</td>\n",
       "      <td>...</td>\n",
       "      <td>0</td>\n",
       "      <td>1</td>\n",
       "      <td>1</td>\n",
       "      <td>0</td>\n",
       "      <td>Laborers</td>\n",
       "      <td>-1.0</td>\n",
       "      <td>-0.842105</td>\n",
       "      <td>-0.363636</td>\n",
       "      <td>-0.142857</td>\n",
       "      <td>-0.428571</td>\n",
       "    </tr>\n",
       "    <tr>\n",
       "      <th>1</th>\n",
       "      <td>1</td>\n",
       "      <td>Cash loans</td>\n",
       "      <td>F</td>\n",
       "      <td>N</td>\n",
       "      <td>Y</td>\n",
       "      <td>0.0</td>\n",
       "      <td>-0.35</td>\n",
       "      <td>0.911643</td>\n",
       "      <td>0.120905</td>\n",
       "      <td>0.577320</td>\n",
       "      <td>...</td>\n",
       "      <td>0</td>\n",
       "      <td>1</td>\n",
       "      <td>0</td>\n",
       "      <td>0</td>\n",
       "      <td>Cooking staff</td>\n",
       "      <td>-1.0</td>\n",
       "      <td>0.526316</td>\n",
       "      <td>0.181818</td>\n",
       "      <td>0.500000</td>\n",
       "      <td>-0.428571</td>\n",
       "    </tr>\n",
       "    <tr>\n",
       "      <th>2</th>\n",
       "      <td>1</td>\n",
       "      <td>Cash loans</td>\n",
       "      <td>M</td>\n",
       "      <td>N</td>\n",
       "      <td>Y</td>\n",
       "      <td>0.0</td>\n",
       "      <td>0.65</td>\n",
       "      <td>1.324618</td>\n",
       "      <td>0.580343</td>\n",
       "      <td>0.927835</td>\n",
       "      <td>...</td>\n",
       "      <td>0</td>\n",
       "      <td>1</td>\n",
       "      <td>0</td>\n",
       "      <td>0</td>\n",
       "      <td>Laborers</td>\n",
       "      <td>0.0</td>\n",
       "      <td>0.315789</td>\n",
       "      <td>-0.181818</td>\n",
       "      <td>-0.571429</td>\n",
       "      <td>-0.857143</td>\n",
       "    </tr>\n",
       "    <tr>\n",
       "      <th>3</th>\n",
       "      <td>1</td>\n",
       "      <td>Cash loans</td>\n",
       "      <td>F</td>\n",
       "      <td>N</td>\n",
       "      <td>N</td>\n",
       "      <td>0.0</td>\n",
       "      <td>-0.10</td>\n",
       "      <td>-0.424642</td>\n",
       "      <td>-0.504160</td>\n",
       "      <td>-0.484536</td>\n",
       "      <td>...</td>\n",
       "      <td>1</td>\n",
       "      <td>1</td>\n",
       "      <td>1</td>\n",
       "      <td>0</td>\n",
       "      <td>Sales staff</td>\n",
       "      <td>0.0</td>\n",
       "      <td>-0.263158</td>\n",
       "      <td>0.363636</td>\n",
       "      <td>-0.785714</td>\n",
       "      <td>0.571429</td>\n",
       "    </tr>\n",
       "    <tr>\n",
       "      <th>4</th>\n",
       "      <td>1</td>\n",
       "      <td>Cash loans</td>\n",
       "      <td>F</td>\n",
       "      <td>N</td>\n",
       "      <td>Y</td>\n",
       "      <td>0.0</td>\n",
       "      <td>-0.70</td>\n",
       "      <td>-0.495937</td>\n",
       "      <td>-0.600364</td>\n",
       "      <td>-0.453608</td>\n",
       "      <td>...</td>\n",
       "      <td>0</td>\n",
       "      <td>1</td>\n",
       "      <td>0</td>\n",
       "      <td>0</td>\n",
       "      <td>Laborers</td>\n",
       "      <td>0.0</td>\n",
       "      <td>1.368421</td>\n",
       "      <td>90.454545</td>\n",
       "      <td>0.214286</td>\n",
       "      <td>0.428571</td>\n",
       "    </tr>\n",
       "  </tbody>\n",
       "</table>\n",
       "<p>5 rows × 28 columns</p>\n",
       "</div>"
      ],
      "text/plain": [
       "   TARGET NAME_CONTRACT_TYPE CODE_GENDER FLAG_OWN_CAR FLAG_OWN_REALTY  \\\n",
       "0       1         Cash loans           M            N               Y   \n",
       "1       1         Cash loans           F            N               Y   \n",
       "2       1         Cash loans           M            N               Y   \n",
       "3       1         Cash loans           F            N               N   \n",
       "4       1         Cash loans           F            N               Y   \n",
       "\n",
       "   CNT_CHILDREN  AMT_INCOME_TOTAL  AMT_CREDIT  AMT_ANNUITY  AMT_GOODS_PRICE  \\\n",
       "0           0.0              0.65   -0.197021    -0.016381        -0.226804   \n",
       "1           0.0             -0.35    0.911643     0.120905         0.577320   \n",
       "2           0.0              0.65    1.324618     0.580343         0.927835   \n",
       "3           0.0             -0.10   -0.424642    -0.504160        -0.484536   \n",
       "4           0.0             -0.70   -0.495937    -0.600364        -0.453608   \n",
       "\n",
       "   ... FLAG_WORK_PHONE FLAG_CONT_MOBILE FLAG_PHONE FLAG_EMAIL OCCUPATION_TYPE  \\\n",
       "0  ...               0                1          1          0        Laborers   \n",
       "1  ...               0                1          0          0   Cooking staff   \n",
       "2  ...               0                1          0          0        Laborers   \n",
       "3  ...               1                1          1          0     Sales staff   \n",
       "4  ...               0                1          0          0        Laborers   \n",
       "\n",
       "   CNT_FAM_MEMBERS       AGE  EMPLOYMENT_YEARS  REGISTRATION_YEARS  \\\n",
       "0             -1.0 -0.842105         -0.363636           -0.142857   \n",
       "1             -1.0  0.526316          0.181818            0.500000   \n",
       "2              0.0  0.315789         -0.181818           -0.571429   \n",
       "3              0.0 -0.263158          0.363636           -0.785714   \n",
       "4              0.0  1.368421         90.454545            0.214286   \n",
       "\n",
       "   PUBLISH_YEARS  \n",
       "0      -0.428571  \n",
       "1      -0.428571  \n",
       "2      -0.857143  \n",
       "3       0.571429  \n",
       "4       0.428571  \n",
       "\n",
       "[5 rows x 28 columns]"
      ]
     },
     "execution_count": 63,
     "metadata": {},
     "output_type": "execute_result"
    }
   ],
   "source": [
    "df.head()"
   ]
  },
  {
   "cell_type": "code",
   "execution_count": 64,
   "id": "6da858ce",
   "metadata": {},
   "outputs": [
    {
     "name": "stdout",
     "output_type": "stream",
     "text": [
      "<class 'pandas.core.frame.DataFrame'>\n",
      "RangeIndex: 74825 entries, 0 to 74824\n",
      "Data columns (total 28 columns):\n",
      " #   Column                      Non-Null Count  Dtype  \n",
      "---  ------                      --------------  -----  \n",
      " 0   TARGET                      74825 non-null  int64  \n",
      " 1   NAME_CONTRACT_TYPE          74825 non-null  object \n",
      " 2   CODE_GENDER                 74825 non-null  object \n",
      " 3   FLAG_OWN_CAR                74825 non-null  object \n",
      " 4   FLAG_OWN_REALTY             74825 non-null  object \n",
      " 5   CNT_CHILDREN                74825 non-null  float64\n",
      " 6   AMT_INCOME_TOTAL            74825 non-null  float64\n",
      " 7   AMT_CREDIT                  74825 non-null  float64\n",
      " 8   AMT_ANNUITY                 74825 non-null  float64\n",
      " 9   AMT_GOODS_PRICE             74825 non-null  float64\n",
      " 10  NAME_TYPE_SUITE             74825 non-null  object \n",
      " 11  NAME_INCOME_TYPE            74825 non-null  object \n",
      " 12  NAME_EDUCATION_TYPE         74825 non-null  object \n",
      " 13  NAME_FAMILY_STATUS          74825 non-null  object \n",
      " 14  NAME_HOUSING_TYPE           74825 non-null  object \n",
      " 15  REGION_POPULATION_RELATIVE  74825 non-null  float64\n",
      " 16  FLAG_MOBIL                  74825 non-null  int64  \n",
      " 17  FLAG_EMP_PHONE              74825 non-null  int64  \n",
      " 18  FLAG_WORK_PHONE             74825 non-null  int64  \n",
      " 19  FLAG_CONT_MOBILE            74825 non-null  int64  \n",
      " 20  FLAG_PHONE                  74825 non-null  int64  \n",
      " 21  FLAG_EMAIL                  74825 non-null  int64  \n",
      " 22  OCCUPATION_TYPE             74825 non-null  object \n",
      " 23  CNT_FAM_MEMBERS             74825 non-null  float64\n",
      " 24  AGE                         74825 non-null  float64\n",
      " 25  EMPLOYMENT_YEARS            74825 non-null  float64\n",
      " 26  REGISTRATION_YEARS          74825 non-null  float64\n",
      " 27  PUBLISH_YEARS               74825 non-null  float64\n",
      "dtypes: float64(11), int64(7), object(10)\n",
      "memory usage: 16.0+ MB\n"
     ]
    }
   ],
   "source": [
    "df.info()"
   ]
  },
  {
   "cell_type": "code",
   "execution_count": 65,
   "id": "fa1445b7",
   "metadata": {},
   "outputs": [
    {
     "data": {
      "text/plain": [
       "NAME_CONTRACT_TYPE\n",
       "Cash loans         68288\n",
       "Revolving loans     6537\n",
       "Name: count, dtype: int64"
      ]
     },
     "execution_count": 65,
     "metadata": {},
     "output_type": "execute_result"
    }
   ],
   "source": [
    "df['NAME_CONTRACT_TYPE'].value_counts()"
   ]
  },
  {
   "cell_type": "markdown",
   "id": "4e398e6b",
   "metadata": {},
   "source": [
    "### Encoding "
   ]
  },
  {
   "cell_type": "code",
   "execution_count": 66,
   "id": "016ae424",
   "metadata": {},
   "outputs": [],
   "source": [
    "df = pd.get_dummies(df, columns=['NAME_CONTRACT_TYPE'], drop_first=True)"
   ]
  },
  {
   "cell_type": "code",
   "execution_count": 67,
   "id": "672e767d",
   "metadata": {},
   "outputs": [
    {
     "data": {
      "text/plain": [
       "CODE_GENDER\n",
       "F    47269\n",
       "M    27556\n",
       "Name: count, dtype: int64"
      ]
     },
     "execution_count": 67,
     "metadata": {},
     "output_type": "execute_result"
    }
   ],
   "source": [
    "df['CODE_GENDER'].value_counts()"
   ]
  },
  {
   "cell_type": "code",
   "execution_count": 68,
   "id": "5caab152",
   "metadata": {},
   "outputs": [],
   "source": [
    "df = pd.get_dummies(df, columns=['CODE_GENDER'], drop_first=True)"
   ]
  },
  {
   "cell_type": "code",
   "execution_count": 69,
   "id": "6a9c707c",
   "metadata": {},
   "outputs": [
    {
     "data": {
      "text/plain": [
       "FLAG_OWN_CAR\n",
       "N    50075\n",
       "Y    24750\n",
       "Name: count, dtype: int64"
      ]
     },
     "execution_count": 69,
     "metadata": {},
     "output_type": "execute_result"
    }
   ],
   "source": [
    "df['FLAG_OWN_CAR'].value_counts()"
   ]
  },
  {
   "cell_type": "code",
   "execution_count": 70,
   "id": "5842480e",
   "metadata": {},
   "outputs": [],
   "source": [
    "df['FLAG_OWN_CAR'] = df['FLAG_OWN_CAR'].map({'N': 0, 'Y': 1})"
   ]
  },
  {
   "cell_type": "code",
   "execution_count": 71,
   "id": "736f01d0",
   "metadata": {},
   "outputs": [
    {
     "data": {
      "text/plain": [
       "FLAG_OWN_REALTY\n",
       "Y    51949\n",
       "N    22876\n",
       "Name: count, dtype: int64"
      ]
     },
     "execution_count": 71,
     "metadata": {},
     "output_type": "execute_result"
    }
   ],
   "source": [
    "df['FLAG_OWN_REALTY'].value_counts()"
   ]
  },
  {
   "cell_type": "code",
   "execution_count": 72,
   "id": "e9dec7cf",
   "metadata": {},
   "outputs": [],
   "source": [
    "df['FLAG_OWN_REALTY'] = df['FLAG_OWN_REALTY'].map({'N': 0, 'Y': 1})"
   ]
  },
  {
   "cell_type": "code",
   "execution_count": 73,
   "id": "6f42b8de",
   "metadata": {},
   "outputs": [
    {
     "data": {
      "text/plain": [
       "NAME_TYPE_SUITE\n",
       "Unaccompanied      60938\n",
       "Family              9600\n",
       "Spouse, partner     2800\n",
       "Children             747\n",
       "Other_B              449\n",
       "Other_A              232\n",
       "Group of people       59\n",
       "Name: count, dtype: int64"
      ]
     },
     "execution_count": 73,
     "metadata": {},
     "output_type": "execute_result"
    }
   ],
   "source": [
    "df['NAME_TYPE_SUITE'].value_counts()"
   ]
  },
  {
   "cell_type": "code",
   "execution_count": 74,
   "id": "d7201f06",
   "metadata": {},
   "outputs": [],
   "source": [
    "df = pd.get_dummies(df, columns=['NAME_TYPE_SUITE'], drop_first=True)"
   ]
  },
  {
   "cell_type": "code",
   "execution_count": 75,
   "id": "c5cd4ed6",
   "metadata": {},
   "outputs": [
    {
     "data": {
      "text/plain": [
       "NAME_INCOME_TYPE\n",
       "Working                 40639\n",
       "Commercial associate    17181\n",
       "Pensioner               12167\n",
       "State servant            4821\n",
       "Unemployed                 10\n",
       "Student                     4\n",
       "Maternity leave             3\n",
       "Name: count, dtype: int64"
      ]
     },
     "execution_count": 75,
     "metadata": {},
     "output_type": "execute_result"
    }
   ],
   "source": [
    "df['NAME_INCOME_TYPE'].value_counts()"
   ]
  },
  {
   "cell_type": "code",
   "execution_count": 76,
   "id": "f8c60c46",
   "metadata": {},
   "outputs": [],
   "source": [
    "df = pd.get_dummies(df, columns=['NAME_INCOME_TYPE'], drop_first=True)"
   ]
  },
  {
   "cell_type": "code",
   "execution_count": 77,
   "id": "a55e9011",
   "metadata": {},
   "outputs": [
    {
     "data": {
      "text/plain": [
       "NAME_EDUCATION_TYPE\n",
       "Secondary / secondary special    54568\n",
       "Higher education                 16599\n",
       "Incomplete higher                 2603\n",
       "Lower secondary                   1021\n",
       "Academic degree                     34\n",
       "Name: count, dtype: int64"
      ]
     },
     "execution_count": 77,
     "metadata": {},
     "output_type": "execute_result"
    }
   ],
   "source": [
    "df['NAME_EDUCATION_TYPE'].value_counts()"
   ]
  },
  {
   "cell_type": "code",
   "execution_count": 78,
   "id": "ab394568",
   "metadata": {},
   "outputs": [],
   "source": [
    "from sklearn.preprocessing import OrdinalEncoder\n",
    "categories = [\n",
    "    'Lower secondary',\n",
    "    'Incomplete higher',\n",
    "    'Secondary / secondary special',\n",
    "    'Higher education',\n",
    "    'Academic degree'\n",
    "]\n",
    "ordinal_encoder = OrdinalEncoder(categories=[categories])\n",
    "\n",
    "df['NAME_EDUCATION_TYPE'] = ordinal_encoder.fit_transform(df[['NAME_EDUCATION_TYPE']])"
   ]
  },
  {
   "cell_type": "code",
   "execution_count": 79,
   "id": "0ae8068e",
   "metadata": {},
   "outputs": [
    {
     "data": {
      "text/plain": [
       "NAME_FAMILY_STATUS\n",
       "Married                 46994\n",
       "Single / not married    11722\n",
       "Civil marriage           7719\n",
       "Separated                4800\n",
       "Widow                    3589\n",
       "Unknown                     1\n",
       "Name: count, dtype: int64"
      ]
     },
     "execution_count": 79,
     "metadata": {},
     "output_type": "execute_result"
    }
   ],
   "source": [
    "df['NAME_FAMILY_STATUS'].value_counts()"
   ]
  },
  {
   "cell_type": "code",
   "execution_count": 80,
   "id": "a03d74a0",
   "metadata": {},
   "outputs": [],
   "source": [
    "df = pd.get_dummies(df, columns=['NAME_FAMILY_STATUS'], drop_first=True)"
   ]
  },
  {
   "cell_type": "code",
   "execution_count": 81,
   "id": "c2a55e42",
   "metadata": {},
   "outputs": [
    {
     "data": {
      "text/plain": [
       "NAME_HOUSING_TYPE\n",
       "House / apartment      65844\n",
       "With parents            3998\n",
       "Municipal apartment     2747\n",
       "Rented apartment        1398\n",
       "Office apartment         578\n",
       "Co-op apartment          260\n",
       "Name: count, dtype: int64"
      ]
     },
     "execution_count": 81,
     "metadata": {},
     "output_type": "execute_result"
    }
   ],
   "source": [
    "df['NAME_HOUSING_TYPE'].value_counts()"
   ]
  },
  {
   "cell_type": "code",
   "execution_count": 82,
   "id": "14d7fe2e",
   "metadata": {},
   "outputs": [],
   "source": [
    "df = pd.get_dummies(df, columns=['NAME_HOUSING_TYPE'], drop_first=True)"
   ]
  },
  {
   "cell_type": "code",
   "execution_count": 83,
   "id": "593b76b8",
   "metadata": {},
   "outputs": [
    {
     "data": {
      "text/plain": [
       "OCCUPATION_TYPE\n",
       "Laborers                 36811\n",
       "Sales staff               8193\n",
       "Core staff                6275\n",
       "Drivers                   5025\n",
       "Managers                  4946\n",
       "High skill tech staff     2579\n",
       "Accountants               2132\n",
       "Medicine staff            1951\n",
       "Security staff            1781\n",
       "Cooking staff             1524\n",
       "Cleaning staff            1187\n",
       "Low-skill Laborers         668\n",
       "Private service staff      622\n",
       "Waiters/barmen staff       373\n",
       "Secretaries                317\n",
       "Realty agents              193\n",
       "HR staff                   126\n",
       "IT staff                   122\n",
       "Name: count, dtype: int64"
      ]
     },
     "execution_count": 83,
     "metadata": {},
     "output_type": "execute_result"
    }
   ],
   "source": [
    "df['OCCUPATION_TYPE'].value_counts()"
   ]
  },
  {
   "cell_type": "code",
   "execution_count": 84,
   "id": "681cb1b8",
   "metadata": {},
   "outputs": [],
   "source": [
    "import category_encoders as ce\n",
    "encoder = ce.LeaveOneOutEncoder(cols=['OCCUPATION_TYPE'], sigma=0.1)\n",
    "\n",
    "df['OCCUPATION_TYPE'] = encoder.fit_transform(df['OCCUPATION_TYPE'], df['TARGET'])"
   ]
  },
  {
   "cell_type": "code",
   "execution_count": 85,
   "id": "abaa5533",
   "metadata": {},
   "outputs": [
    {
     "data": {
      "text/html": [
       "<div>\n",
       "<style scoped>\n",
       "    .dataframe tbody tr th:only-of-type {\n",
       "        vertical-align: middle;\n",
       "    }\n",
       "\n",
       "    .dataframe tbody tr th {\n",
       "        vertical-align: top;\n",
       "    }\n",
       "\n",
       "    .dataframe thead th {\n",
       "        text-align: right;\n",
       "    }\n",
       "</style>\n",
       "<table border=\"1\" class=\"dataframe\">\n",
       "  <thead>\n",
       "    <tr style=\"text-align: right;\">\n",
       "      <th></th>\n",
       "      <th>TARGET</th>\n",
       "      <th>FLAG_OWN_CAR</th>\n",
       "      <th>FLAG_OWN_REALTY</th>\n",
       "      <th>CNT_CHILDREN</th>\n",
       "      <th>AMT_INCOME_TOTAL</th>\n",
       "      <th>AMT_CREDIT</th>\n",
       "      <th>AMT_ANNUITY</th>\n",
       "      <th>AMT_GOODS_PRICE</th>\n",
       "      <th>NAME_EDUCATION_TYPE</th>\n",
       "      <th>REGION_POPULATION_RELATIVE</th>\n",
       "      <th>...</th>\n",
       "      <th>NAME_FAMILY_STATUS_Married</th>\n",
       "      <th>NAME_FAMILY_STATUS_Separated</th>\n",
       "      <th>NAME_FAMILY_STATUS_Single / not married</th>\n",
       "      <th>NAME_FAMILY_STATUS_Unknown</th>\n",
       "      <th>NAME_FAMILY_STATUS_Widow</th>\n",
       "      <th>NAME_HOUSING_TYPE_House / apartment</th>\n",
       "      <th>NAME_HOUSING_TYPE_Municipal apartment</th>\n",
       "      <th>NAME_HOUSING_TYPE_Office apartment</th>\n",
       "      <th>NAME_HOUSING_TYPE_Rented apartment</th>\n",
       "      <th>NAME_HOUSING_TYPE_With parents</th>\n",
       "    </tr>\n",
       "  </thead>\n",
       "  <tbody>\n",
       "    <tr>\n",
       "      <th>0</th>\n",
       "      <td>1</td>\n",
       "      <td>0</td>\n",
       "      <td>1</td>\n",
       "      <td>0.0</td>\n",
       "      <td>0.65</td>\n",
       "      <td>-0.197021</td>\n",
       "      <td>-0.016381</td>\n",
       "      <td>-0.226804</td>\n",
       "      <td>2.0</td>\n",
       "      <td>-0.002990</td>\n",
       "      <td>...</td>\n",
       "      <td>False</td>\n",
       "      <td>False</td>\n",
       "      <td>True</td>\n",
       "      <td>False</td>\n",
       "      <td>False</td>\n",
       "      <td>True</td>\n",
       "      <td>False</td>\n",
       "      <td>False</td>\n",
       "      <td>False</td>\n",
       "      <td>False</td>\n",
       "    </tr>\n",
       "    <tr>\n",
       "      <th>1</th>\n",
       "      <td>1</td>\n",
       "      <td>0</td>\n",
       "      <td>1</td>\n",
       "      <td>0.0</td>\n",
       "      <td>-0.35</td>\n",
       "      <td>0.911643</td>\n",
       "      <td>0.120905</td>\n",
       "      <td>0.577320</td>\n",
       "      <td>2.0</td>\n",
       "      <td>-0.050104</td>\n",
       "      <td>...</td>\n",
       "      <td>False</td>\n",
       "      <td>False</td>\n",
       "      <td>False</td>\n",
       "      <td>False</td>\n",
       "      <td>True</td>\n",
       "      <td>True</td>\n",
       "      <td>False</td>\n",
       "      <td>False</td>\n",
       "      <td>False</td>\n",
       "      <td>False</td>\n",
       "    </tr>\n",
       "    <tr>\n",
       "      <th>2</th>\n",
       "      <td>1</td>\n",
       "      <td>0</td>\n",
       "      <td>1</td>\n",
       "      <td>0.0</td>\n",
       "      <td>0.65</td>\n",
       "      <td>1.324618</td>\n",
       "      <td>0.580343</td>\n",
       "      <td>0.927835</td>\n",
       "      <td>2.0</td>\n",
       "      <td>0.385329</td>\n",
       "      <td>...</td>\n",
       "      <td>True</td>\n",
       "      <td>False</td>\n",
       "      <td>False</td>\n",
       "      <td>False</td>\n",
       "      <td>False</td>\n",
       "      <td>True</td>\n",
       "      <td>False</td>\n",
       "      <td>False</td>\n",
       "      <td>False</td>\n",
       "      <td>False</td>\n",
       "    </tr>\n",
       "    <tr>\n",
       "      <th>3</th>\n",
       "      <td>1</td>\n",
       "      <td>0</td>\n",
       "      <td>0</td>\n",
       "      <td>0.0</td>\n",
       "      <td>-0.10</td>\n",
       "      <td>-0.424642</td>\n",
       "      <td>-0.504160</td>\n",
       "      <td>-0.484536</td>\n",
       "      <td>2.0</td>\n",
       "      <td>-0.704565</td>\n",
       "      <td>...</td>\n",
       "      <td>False</td>\n",
       "      <td>False</td>\n",
       "      <td>False</td>\n",
       "      <td>False</td>\n",
       "      <td>False</td>\n",
       "      <td>True</td>\n",
       "      <td>False</td>\n",
       "      <td>False</td>\n",
       "      <td>False</td>\n",
       "      <td>False</td>\n",
       "    </tr>\n",
       "    <tr>\n",
       "      <th>4</th>\n",
       "      <td>1</td>\n",
       "      <td>0</td>\n",
       "      <td>1</td>\n",
       "      <td>0.0</td>\n",
       "      <td>-0.70</td>\n",
       "      <td>-0.495937</td>\n",
       "      <td>-0.600364</td>\n",
       "      <td>-0.453608</td>\n",
       "      <td>2.0</td>\n",
       "      <td>0.598865</td>\n",
       "      <td>...</td>\n",
       "      <td>True</td>\n",
       "      <td>False</td>\n",
       "      <td>False</td>\n",
       "      <td>False</td>\n",
       "      <td>False</td>\n",
       "      <td>True</td>\n",
       "      <td>False</td>\n",
       "      <td>False</td>\n",
       "      <td>False</td>\n",
       "      <td>False</td>\n",
       "    </tr>\n",
       "  </tbody>\n",
       "</table>\n",
       "<p>5 rows × 46 columns</p>\n",
       "</div>"
      ],
      "text/plain": [
       "   TARGET  FLAG_OWN_CAR  FLAG_OWN_REALTY  CNT_CHILDREN  AMT_INCOME_TOTAL  \\\n",
       "0       1             0                1           0.0              0.65   \n",
       "1       1             0                1           0.0             -0.35   \n",
       "2       1             0                1           0.0              0.65   \n",
       "3       1             0                0           0.0             -0.10   \n",
       "4       1             0                1           0.0             -0.70   \n",
       "\n",
       "   AMT_CREDIT  AMT_ANNUITY  AMT_GOODS_PRICE  NAME_EDUCATION_TYPE  \\\n",
       "0   -0.197021    -0.016381        -0.226804                  2.0   \n",
       "1    0.911643     0.120905         0.577320                  2.0   \n",
       "2    1.324618     0.580343         0.927835                  2.0   \n",
       "3   -0.424642    -0.504160        -0.484536                  2.0   \n",
       "4   -0.495937    -0.600364        -0.453608                  2.0   \n",
       "\n",
       "   REGION_POPULATION_RELATIVE  ...  NAME_FAMILY_STATUS_Married  \\\n",
       "0                   -0.002990  ...                       False   \n",
       "1                   -0.050104  ...                       False   \n",
       "2                    0.385329  ...                        True   \n",
       "3                   -0.704565  ...                       False   \n",
       "4                    0.598865  ...                        True   \n",
       "\n",
       "   NAME_FAMILY_STATUS_Separated  NAME_FAMILY_STATUS_Single / not married  \\\n",
       "0                         False                                     True   \n",
       "1                         False                                    False   \n",
       "2                         False                                    False   \n",
       "3                         False                                    False   \n",
       "4                         False                                    False   \n",
       "\n",
       "   NAME_FAMILY_STATUS_Unknown  NAME_FAMILY_STATUS_Widow  \\\n",
       "0                       False                     False   \n",
       "1                       False                      True   \n",
       "2                       False                     False   \n",
       "3                       False                     False   \n",
       "4                       False                     False   \n",
       "\n",
       "   NAME_HOUSING_TYPE_House / apartment  NAME_HOUSING_TYPE_Municipal apartment  \\\n",
       "0                                 True                                  False   \n",
       "1                                 True                                  False   \n",
       "2                                 True                                  False   \n",
       "3                                 True                                  False   \n",
       "4                                 True                                  False   \n",
       "\n",
       "   NAME_HOUSING_TYPE_Office apartment  NAME_HOUSING_TYPE_Rented apartment  \\\n",
       "0                               False                               False   \n",
       "1                               False                               False   \n",
       "2                               False                               False   \n",
       "3                               False                               False   \n",
       "4                               False                               False   \n",
       "\n",
       "   NAME_HOUSING_TYPE_With parents  \n",
       "0                           False  \n",
       "1                           False  \n",
       "2                           False  \n",
       "3                           False  \n",
       "4                           False  \n",
       "\n",
       "[5 rows x 46 columns]"
      ]
     },
     "execution_count": 85,
     "metadata": {},
     "output_type": "execute_result"
    }
   ],
   "source": [
    "df.head()"
   ]
  },
  {
   "cell_type": "code",
   "execution_count": 86,
   "id": "119f70bf",
   "metadata": {},
   "outputs": [
    {
     "data": {
      "text/plain": [
       "(74825, 46)"
      ]
     },
     "execution_count": 86,
     "metadata": {},
     "output_type": "execute_result"
    }
   ],
   "source": [
    "df.shape"
   ]
  },
  {
   "cell_type": "code",
   "execution_count": 87,
   "id": "f5354b98",
   "metadata": {},
   "outputs": [
    {
     "data": {
      "text/plain": [
       "0        0.332102\n",
       "1        0.344315\n",
       "2        0.310295\n",
       "3        0.423112\n",
       "4        0.335335\n",
       "           ...   \n",
       "74820    0.316772\n",
       "74821    0.348069\n",
       "74822    0.384238\n",
       "74823    0.270479\n",
       "74824    0.303828\n",
       "Name: OCCUPATION_TYPE, Length: 74825, dtype: float64"
      ]
     },
     "execution_count": 87,
     "metadata": {},
     "output_type": "execute_result"
    }
   ],
   "source": [
    "df['OCCUPATION_TYPE']"
   ]
  },
  {
   "cell_type": "markdown",
   "id": "b491ff81",
   "metadata": {},
   "source": [
    "### Feature Selection "
   ]
  },
  {
   "cell_type": "code",
   "execution_count": 88,
   "id": "47b05d50",
   "metadata": {},
   "outputs": [],
   "source": [
    "correlation_matrix = df.corr()\n",
    "\n",
    "# Select features with high correlation to the target\n",
    "correlation_threshold = 0.1\n",
    "selected_features = correlation_matrix['TARGET'][abs(correlation_matrix['TARGET']) > correlation_threshold].index.tolist()"
   ]
  },
  {
   "cell_type": "code",
   "execution_count": 89,
   "id": "0f8d9056",
   "metadata": {},
   "outputs": [
    {
     "data": {
      "text/plain": [
       "TARGET                                     1.000000\n",
       "FLAG_OWN_CAR                              -0.038333\n",
       "FLAG_OWN_REALTY                           -0.015546\n",
       "CNT_CHILDREN                               0.033079\n",
       "AMT_INCOME_TOTAL                          -0.004427\n",
       "AMT_CREDIT                                -0.054172\n",
       "AMT_ANNUITY                               -0.023593\n",
       "AMT_GOODS_PRICE                           -0.070817\n",
       "NAME_EDUCATION_TYPE                       -0.088956\n",
       "REGION_POPULATION_RELATIVE                -0.070870\n",
       "FLAG_MOBIL                                      NaN\n",
       "FLAG_EMP_PHONE                             0.080686\n",
       "FLAG_WORK_PHONE                            0.047076\n",
       "FLAG_CONT_MOBILE                          -0.000364\n",
       "FLAG_PHONE                                -0.042674\n",
       "FLAG_EMAIL                                -0.004701\n",
       "OCCUPATION_TYPE                            0.088441\n",
       "CNT_FAM_MEMBERS                            0.015707\n",
       "AGE                                       -0.132805\n",
       "EMPLOYMENT_YEARS                          -0.082615\n",
       "REGISTRATION_YEARS                        -0.070827\n",
       "PUBLISH_YEARS                             -0.085525\n",
       "NAME_CONTRACT_TYPE_Revolving loans        -0.056775\n",
       "CODE_GENDER_M                              0.089013\n",
       "NAME_TYPE_SUITE_Family                    -0.014941\n",
       "NAME_TYPE_SUITE_Group of people            0.003464\n",
       "NAME_TYPE_SUITE_Other_A                   -0.000496\n",
       "NAME_TYPE_SUITE_Other_B                    0.009200\n",
       "NAME_TYPE_SUITE_Spouse, partner           -0.005080\n",
       "NAME_TYPE_SUITE_Unaccompanied              0.013824\n",
       "NAME_INCOME_TYPE_Maternity leave           0.004504\n",
       "NAME_INCOME_TYPE_Pensioner                -0.081127\n",
       "NAME_INCOME_TYPE_State servant            -0.040519\n",
       "NAME_INCOME_TYPE_Student                  -0.005152\n",
       "NAME_INCOME_TYPE_Unemployed                0.011497\n",
       "NAME_INCOME_TYPE_Working                   0.099204\n",
       "NAME_FAMILY_STATUS_Married                -0.043539\n",
       "NAME_FAMILY_STATUS_Separated               0.003184\n",
       "NAME_FAMILY_STATUS_Single / not married    0.044350\n",
       "NAME_FAMILY_STATUS_Unknown                -0.002576\n",
       "NAME_FAMILY_STATUS_Widow                  -0.033703\n",
       "NAME_HOUSING_TYPE_House / apartment       -0.050073\n",
       "NAME_HOUSING_TYPE_Municipal apartment      0.006583\n",
       "NAME_HOUSING_TYPE_Office apartment        -0.006408\n",
       "NAME_HOUSING_TYPE_Rented apartment         0.028756\n",
       "NAME_HOUSING_TYPE_With parents             0.051692\n",
       "Name: TARGET, dtype: float64"
      ]
     },
     "execution_count": 89,
     "metadata": {},
     "output_type": "execute_result"
    }
   ],
   "source": [
    "df.corr()['TARGET']"
   ]
  },
  {
   "cell_type": "code",
   "execution_count": 90,
   "id": "c3539321",
   "metadata": {},
   "outputs": [],
   "source": [
    "from statsmodels.stats.outliers_influence import variance_inflation_factor as VIF\n",
    "from sklearn.decomposition import PCA"
   ]
  },
  {
   "cell_type": "code",
   "execution_count": 91,
   "id": "419b9606",
   "metadata": {},
   "outputs": [],
   "source": [
    "# Yüksək VİF dəyərlərinə sahib olan dəyişənlərin datasetdən çıxarılması üçün funksiyanın yazılması\n",
    "from sklearn.impute import SimpleImputer\n",
    "def drop_features_with_high_vif(data_frame = None, vif_threshold = 5):\n",
    "    features = data_frame.select_dtypes(include = 'number').drop(columns = 'TARGET').columns.tolist()\n",
    "    X = data_frame[features].copy()\n",
    "    imputer = SimpleImputer(strategy = 'median')\n",
    "    X = pd.DataFrame(data = imputer.fit_transform(X = X), columns = features)\n",
    "    \n",
    "    vif_df = pd.DataFrame()\n",
    "    vif_df['feature'] = X.columns\n",
    "    vif_df['vif_value'] = [VIF(exog = X.values, exog_idx = i) for i in range(len(X.columns))]\n",
    "    \n",
    "    features_with_max_vif_value = []\n",
    "    \n",
    "    while vif_df.vif_value.max() > vif_threshold:\n",
    "        feature_with_max_vif_value = vif_df.loc[vif_df.vif_value == vif_df.vif_value.max(), 'feature'].values[0]\n",
    "        features_with_max_vif_value.append(feature_with_max_vif_value)\n",
    "        X.drop(columns = feature_with_max_vif_value, inplace = True)\n",
    "        \n",
    "        vif_df = pd.DataFrame()\n",
    "        vif_df['feature'] = X.columns\n",
    "        vif_df['vif_value'] = [VIF(exog = X.values, exog_idx = i) for i in range(len(X.columns))]\n",
    "    \n",
    "    data_frame.drop(columns = features_with_max_vif_value, inplace = True)\n",
    "    \n",
    "    return data_frame"
   ]
  },
  {
   "cell_type": "code",
   "execution_count": 92,
   "id": "b36c4b0c",
   "metadata": {},
   "outputs": [],
   "source": [
    "df = drop_features_with_high_vif(data_frame = df)"
   ]
  },
  {
   "cell_type": "code",
   "execution_count": 94,
   "id": "5e646ff1",
   "metadata": {},
   "outputs": [],
   "source": [
    "from sklearn.linear_model import Lasso\n",
    "lasso = Lasso(alpha=0.01)\n",
    "lasso.fit(X, y)\n",
    "\n",
    "selected_features_indices = np.where(lasso.coef_ != 0)[0]"
   ]
  },
  {
   "cell_type": "code",
   "execution_count": 95,
   "id": "964e644c",
   "metadata": {},
   "outputs": [
    {
     "data": {
      "text/plain": [
       "array([ 0,  3,  5,  6, 11, 12, 13, 14, 16, 28], dtype=int64)"
      ]
     },
     "execution_count": 95,
     "metadata": {},
     "output_type": "execute_result"
    }
   ],
   "source": [
    "selected_features_indices"
   ]
  },
  {
   "cell_type": "code",
   "execution_count": 96,
   "id": "c0a5373b",
   "metadata": {},
   "outputs": [],
   "source": [
    "selected_features = X.columns[selected_features_indices].tolist()"
   ]
  },
  {
   "cell_type": "code",
   "execution_count": 97,
   "id": "a80392c2",
   "metadata": {},
   "outputs": [
    {
     "data": {
      "text/plain": [
       "10"
      ]
     },
     "execution_count": 97,
     "metadata": {},
     "output_type": "execute_result"
    }
   ],
   "source": [
    "len(selected_features)"
   ]
  },
  {
   "cell_type": "code",
   "execution_count": 98,
   "id": "85b3004d",
   "metadata": {},
   "outputs": [
    {
     "data": {
      "text/plain": [
       "['FLAG_OWN_CAR',\n",
       " 'AMT_CREDIT',\n",
       " 'NAME_EDUCATION_TYPE',\n",
       " 'REGION_POPULATION_RELATIVE',\n",
       " 'AGE',\n",
       " 'EMPLOYMENT_YEARS',\n",
       " 'REGISTRATION_YEARS',\n",
       " 'PUBLISH_YEARS',\n",
       " 'CODE_GENDER_M',\n",
       " 'NAME_INCOME_TYPE_Working']"
      ]
     },
     "execution_count": 98,
     "metadata": {},
     "output_type": "execute_result"
    }
   ],
   "source": [
    "selected_features"
   ]
  },
  {
   "cell_type": "markdown",
   "id": "e96f783f",
   "metadata": {},
   "source": [
    "### Train test split"
   ]
  },
  {
   "cell_type": "code",
   "execution_count": 99,
   "id": "a8d916c2",
   "metadata": {},
   "outputs": [],
   "source": [
    "X = df[selected_features]"
   ]
  },
  {
   "cell_type": "code",
   "execution_count": 100,
   "id": "7a417758",
   "metadata": {},
   "outputs": [],
   "source": [
    "from sklearn.model_selection import train_test_split"
   ]
  },
  {
   "cell_type": "code",
   "execution_count": 101,
   "id": "4152daeb",
   "metadata": {},
   "outputs": [],
   "source": [
    "x_train, x_test, y_train, y_test = train_test_split(X, y, test_size=0.2, random_state=42)"
   ]
  },
  {
   "cell_type": "markdown",
   "id": "e6d887e6",
   "metadata": {},
   "source": [
    "### Random Forest"
   ]
  },
  {
   "cell_type": "code",
   "execution_count": 102,
   "id": "4f7ab1af",
   "metadata": {},
   "outputs": [],
   "source": [
    "from sklearn.ensemble import RandomForestClassifier\n",
    "from sklearn.metrics import accuracy_score, classification_report,confusion_matrix, f1_score, recall_score"
   ]
  },
  {
   "cell_type": "code",
   "execution_count": 103,
   "id": "393326b2",
   "metadata": {},
   "outputs": [
    {
     "name": "stdout",
     "output_type": "stream",
     "text": [
      "Accuracy: 0.6732375542933512\n",
      "              precision    recall  f1-score   support\n",
      "\n",
      "           0       0.70      0.89      0.79     10051\n",
      "           1       0.51      0.23      0.32      4914\n",
      "\n",
      "    accuracy                           0.67     14965\n",
      "   macro avg       0.60      0.56      0.55     14965\n",
      "weighted avg       0.64      0.67      0.63     14965\n",
      "\n"
     ]
    }
   ],
   "source": [
    "rf_classifier = RandomForestClassifier(n_estimators=100, random_state=42)\n",
    "\n",
    "\n",
    "\n",
    "rf_classifier.fit(x_train, y_train)\n",
    "\n",
    "y_pred = rf_classifier.predict(x_test)\n",
    "\n",
    "accuracy = accuracy_score(y_test, y_pred)\n",
    "print(f'Accuracy: {accuracy}')\n",
    "\n",
    "print(classification_report(y_test, y_pred))"
   ]
  },
  {
   "cell_type": "code",
   "execution_count": 104,
   "id": "5ce449a4",
   "metadata": {},
   "outputs": [
    {
     "data": {
      "text/plain": [
       "0.2317867317867318"
      ]
     },
     "execution_count": 104,
     "metadata": {},
     "output_type": "execute_result"
    }
   ],
   "source": [
    "recall_score(y_test, y_pred)"
   ]
  },
  {
   "cell_type": "code",
   "execution_count": 105,
   "id": "e47322ed",
   "metadata": {},
   "outputs": [
    {
     "data": {
      "text/plain": [
       "0.3178013392857143"
      ]
     },
     "execution_count": 105,
     "metadata": {},
     "output_type": "execute_result"
    }
   ],
   "source": [
    "f1_score(y_test, y_pred)"
   ]
  },
  {
   "cell_type": "markdown",
   "id": "a1068045",
   "metadata": {},
   "source": [
    "### XGBOOST"
   ]
  },
  {
   "cell_type": "code",
   "execution_count": 106,
   "id": "13139483",
   "metadata": {},
   "outputs": [
    {
     "name": "stdout",
     "output_type": "stream",
     "text": [
      "Gradient Boosting Machines\n",
      "[[8992 1059]\n",
      " [3654 1260]]\n",
      "              precision    recall  f1-score   support\n",
      "\n",
      "           0       0.71      0.89      0.79     10051\n",
      "           1       0.54      0.26      0.35      4914\n",
      "\n",
      "    accuracy                           0.69     14965\n",
      "   macro avg       0.63      0.58      0.57     14965\n",
      "weighted avg       0.66      0.69      0.65     14965\n",
      "\n"
     ]
    },
    {
     "name": "stderr",
     "output_type": "stream",
     "text": [
      "C:\\Users\\ROG\\anaconda3\\lib\\site-packages\\xgboost\\core.py:158: UserWarning: [15:37:29] WARNING: C:\\buildkite-agent\\builds\\buildkite-windows-cpu-autoscaling-group-i-0015a694724fa8361-1\\xgboost\\xgboost-ci-windows\\src\\learner.cc:740: \n",
      "Parameters: { \"use_label_encoder\" } are not used.\n",
      "\n",
      "  warnings.warn(smsg, UserWarning)\n"
     ]
    }
   ],
   "source": [
    "import xgboost as xgb\n",
    "\n",
    "# Modeli yaradın və təlim edin\n",
    "gbm_model = xgb.XGBClassifier(use_label_encoder=False)\n",
    "gbm_model.fit(x_train, y_train)\n",
    "\n",
    "# Proqnozlar və qiymətləndirmə\n",
    "y_pred_gbm = gbm_model.predict(x_test)\n",
    "print(\"Gradient Boosting Machines\")\n",
    "print(confusion_matrix(y_test, y_pred_gbm))\n",
    "print(classification_report(y_test, y_pred_gbm))"
   ]
  },
  {
   "cell_type": "code",
   "execution_count": 107,
   "id": "63dc4030",
   "metadata": {},
   "outputs": [],
   "source": [
    "from imblearn.over_sampling import SMOTE"
   ]
  },
  {
   "cell_type": "code",
   "execution_count": 108,
   "id": "f232ce2b",
   "metadata": {},
   "outputs": [],
   "source": [
    "from imblearn.over_sampling import SMOTE\n",
    "smote = SMOTE(random_state=42)\n",
    "X_res2, y_res2 = smote.fit_resample(X, y)\n",
    "X_train2, X_test2, y_train2, y_test2 = train_test_split(X_res2, y_res2, test_size=0.2, random_state=42)"
   ]
  },
  {
   "cell_type": "code",
   "execution_count": 109,
   "id": "01130078",
   "metadata": {},
   "outputs": [
    {
     "name": "stdout",
     "output_type": "stream",
     "text": [
      "Accuracy: 0.75925\n",
      "              precision    recall  f1-score   support\n",
      "\n",
      "           0       0.73      0.82      0.77     10006\n",
      "           1       0.79      0.70      0.74      9994\n",
      "\n",
      "    accuracy                           0.76     20000\n",
      "   macro avg       0.76      0.76      0.76     20000\n",
      "weighted avg       0.76      0.76      0.76     20000\n",
      "\n"
     ]
    }
   ],
   "source": [
    "rf_classifier = RandomForestClassifier(n_estimators=100, random_state=42)\n",
    "\n",
    "\n",
    "\n",
    "rf_classifier.fit(X_train2, y_train2)\n",
    "\n",
    "y_pred = rf_classifier.predict(X_test2)\n",
    "\n",
    "accuracy = accuracy_score(y_test2, y_pred)\n",
    "print(f'Accuracy: {accuracy}')\n",
    "\n",
    "print(classification_report(y_test2, y_pred))"
   ]
  },
  {
   "cell_type": "code",
   "execution_count": 111,
   "id": "16bfe291",
   "metadata": {},
   "outputs": [
    {
     "data": {
      "text/plain": [
       "0.7449006622516556"
      ]
     },
     "execution_count": 111,
     "metadata": {},
     "output_type": "execute_result"
    }
   ],
   "source": [
    "f1_score(y_test2, y_pred)"
   ]
  },
  {
   "cell_type": "code",
   "execution_count": 112,
   "id": "54c805a6",
   "metadata": {},
   "outputs": [
    {
     "data": {
      "text/plain": [
       "0.7034220532319392"
      ]
     },
     "execution_count": 112,
     "metadata": {},
     "output_type": "execute_result"
    }
   ],
   "source": [
    "recall_score(y_test2, y_pred)"
   ]
  },
  {
   "cell_type": "code",
   "execution_count": 114,
   "id": "fb02fddf",
   "metadata": {},
   "outputs": [
    {
     "name": "stdout",
     "output_type": "stream",
     "text": [
      "Gradient Boosting Machines\n",
      "[[8626 1380]\n",
      " [3641 6353]]\n",
      "              precision    recall  f1-score   support\n",
      "\n",
      "           0       0.70      0.86      0.77     10006\n",
      "           1       0.82      0.64      0.72      9994\n",
      "\n",
      "    accuracy                           0.75     20000\n",
      "   macro avg       0.76      0.75      0.75     20000\n",
      "weighted avg       0.76      0.75      0.75     20000\n",
      "\n"
     ]
    },
    {
     "name": "stderr",
     "output_type": "stream",
     "text": [
      "C:\\Users\\ROG\\anaconda3\\lib\\site-packages\\xgboost\\core.py:158: UserWarning: [15:41:07] WARNING: C:\\buildkite-agent\\builds\\buildkite-windows-cpu-autoscaling-group-i-0015a694724fa8361-1\\xgboost\\xgboost-ci-windows\\src\\learner.cc:740: \n",
      "Parameters: { \"use_label_encoder\" } are not used.\n",
      "\n",
      "  warnings.warn(smsg, UserWarning)\n"
     ]
    }
   ],
   "source": [
    "import xgboost as xgb\n",
    "\n",
    "# Modeli yaradın və təlim edin\n",
    "gbm_model = xgb.XGBClassifier(use_label_encoder=False)\n",
    "gbm_model.fit(X_train2, y_train2)\n",
    "\n",
    "# Proqnozlar və qiymətləndirmə\n",
    "y_pred_gbm = gbm_model.predict(X_test2)\n",
    "print(\"Gradient Boosting Machines\")\n",
    "print(confusion_matrix(y_test2, y_pred_gbm))\n",
    "print(classification_report(y_test2, y_pred_gbm))"
   ]
  },
  {
   "cell_type": "code",
   "execution_count": 115,
   "id": "06549762",
   "metadata": {},
   "outputs": [
    {
     "data": {
      "text/plain": [
       "0.6356814088453072"
      ]
     },
     "execution_count": 115,
     "metadata": {},
     "output_type": "execute_result"
    }
   ],
   "source": [
    "recall_score(y_test2, y_pred_gbm)"
   ]
  },
  {
   "cell_type": "code",
   "execution_count": 116,
   "id": "60604362",
   "metadata": {},
   "outputs": [
    {
     "data": {
      "text/plain": [
       "0.7167597450217182"
      ]
     },
     "execution_count": 116,
     "metadata": {},
     "output_type": "execute_result"
    }
   ],
   "source": [
    "f1_score(y_test2, y_pred_gbm)"
   ]
  },
  {
   "cell_type": "code",
   "execution_count": null,
   "id": "ae3ace72",
   "metadata": {},
   "outputs": [],
   "source": []
  }
 ],
 "metadata": {
  "kernelspec": {
   "display_name": "Python 3 (ipykernel)",
   "language": "python",
   "name": "python3"
  },
  "language_info": {
   "codemirror_mode": {
    "name": "ipython",
    "version": 3
   },
   "file_extension": ".py",
   "mimetype": "text/x-python",
   "name": "python",
   "nbconvert_exporter": "python",
   "pygments_lexer": "ipython3",
   "version": "3.10.9"
  }
 },
 "nbformat": 4,
 "nbformat_minor": 5
}
